{
 "cells": [
  {
   "cell_type": "markdown",
   "metadata": {},
   "source": [
    "# Predicción del desempeño de alumnos en la materia Matemática. Análisis de los principales factores que influyen en el desempeño."
   ]
  },
  {
   "cell_type": "markdown",
   "metadata": {},
   "source": [
    "Trabajo realizado en el marco del Hackatón de Datos Educativos 2020, organizado por Argentinos por la Educación.\n",
    "Autores: Ariel Fleiderman, Carlos Rodríguez, Gabriela Rau, Teo Saralegui y Edwin Jhony Chirre Ramírez.\n",
    "\n",
    "El trabajo consistió en un modelo de Machine Learning que predice a través de un target binario el desempeño -bueno o malo- de los alumnos en las pruebas Aprender en la materia Matemática.\n",
    "\n",
    "Aprender es el dispositivo nacional de evaluación de los aprendizajes de los estudiantes y de sistematización de información acerca de algunas condiciones en las que ellos se desarrollan.\n",
    "\n",
    "Más info: https://www.argentina.gob.ar/educacion/aprender"
   ]
  },
  {
   "cell_type": "markdown",
   "metadata": {},
   "source": [
    "### Principales interrogantes"
   ]
  },
  {
   "cell_type": "markdown",
   "metadata": {},
   "source": [
    "¿Se puede predecir el desempeño de los alumnos en las pruebas Aprender? ¿Qué factores inciden sobre los resultados de las pruebas Aprender? ¿Son factores endógenos o exógenos al sistema educativo? Identificar variables que puedan ayudar a diseñar estrategias para mejorar el nivel de aprendizaje."
   ]
  },
  {
   "cell_type": "code",
   "execution_count": 1,
   "metadata": {},
   "outputs": [],
   "source": [
    "import pandas as pd               #Manejo de Datos\n",
    "import numpy as np                #Calculo numerico\n",
    "import seaborn as sns             #Libreria de Visualizaciones\n",
    "import matplotlib.pyplot as plt   #Libreria de Visualizaciones"
   ]
  },
  {
   "cell_type": "markdown",
   "metadata": {},
   "source": [
    "# Análisis exploratorio de Datasets"
   ]
  },
  {
   "cell_type": "code",
   "execution_count": 4,
   "metadata": {},
   "outputs": [
    {
     "name": "stderr",
     "output_type": "stream",
     "text": [
      "/home/gr/anaconda3/envs/ent7/lib/python3.6/site-packages/IPython/core/interactiveshell.py:3063: DtypeWarning: Columns (2,3,4,5,6) have mixed types.Specify dtype option on import or set low_memory=False.\n",
      "  interactivity=interactivity, compiler=compiler, result=result)\n"
     ]
    }
   ],
   "source": [
    "data_alumnos = pd.read_csv('app_alumno.csv')\n"
   ]
  },
  {
   "cell_type": "code",
   "execution_count": 5,
   "metadata": {
    "scrolled": true
   },
   "outputs": [
    {
     "data": {
      "text/html": [
       "<div>\n",
       "<style scoped>\n",
       "    .dataframe tbody tr th:only-of-type {\n",
       "        vertical-align: middle;\n",
       "    }\n",
       "\n",
       "    .dataframe tbody tr th {\n",
       "        vertical-align: top;\n",
       "    }\n",
       "\n",
       "    .dataframe thead th {\n",
       "        text-align: right;\n",
       "    }\n",
       "</style>\n",
       "<table border=\"1\" class=\"dataframe\">\n",
       "  <thead>\n",
       "    <tr style=\"text-align: right;\">\n",
       "      <th></th>\n",
       "      <th>id</th>\n",
       "      <th>sexo</th>\n",
       "      <th>indice_socioeconomico</th>\n",
       "      <th>nivel_desemp_matematica</th>\n",
       "      <th>nivel_desemp_lengua</th>\n",
       "      <th>nivel_desemp_ciencias_sociales</th>\n",
       "      <th>nivel_desemp_ciencias_naturales</th>\n",
       "      <th>ponderador_lengua</th>\n",
       "      <th>ponderador_matematica</th>\n",
       "      <th>ponderador_ciencias_naturales</th>\n",
       "      <th>...</th>\n",
       "      <th>tiene_smartphone</th>\n",
       "      <th>tiene_consola</th>\n",
       "      <th>tiene_smarttv</th>\n",
       "      <th>tiene_cable</th>\n",
       "      <th>tiene_internet</th>\n",
       "      <th>repeticion_primaria</th>\n",
       "      <th>repeticion_secundaria</th>\n",
       "      <th>escuela_id</th>\n",
       "      <th>nivel_id</th>\n",
       "      <th>year_id</th>\n",
       "    </tr>\n",
       "  </thead>\n",
       "  <tbody>\n",
       "    <tr>\n",
       "      <th>0</th>\n",
       "      <td>1</td>\n",
       "      <td>nc</td>\n",
       "      <td>NaN</td>\n",
       "      <td>satisfactorio</td>\n",
       "      <td>nc</td>\n",
       "      <td>satisfactorio</td>\n",
       "      <td>satisfactorio</td>\n",
       "      <td>-1.00000</td>\n",
       "      <td>35.920963</td>\n",
       "      <td>42.752556</td>\n",
       "      <td>...</td>\n",
       "      <td>nc</td>\n",
       "      <td>nc</td>\n",
       "      <td>nc</td>\n",
       "      <td>nc</td>\n",
       "      <td>nc</td>\n",
       "      <td>nc</td>\n",
       "      <td>nc</td>\n",
       "      <td>120240006</td>\n",
       "      <td>2</td>\n",
       "      <td>2013</td>\n",
       "    </tr>\n",
       "    <tr>\n",
       "      <th>1</th>\n",
       "      <td>2</td>\n",
       "      <td>nc</td>\n",
       "      <td>NaN</td>\n",
       "      <td>satisfactorio</td>\n",
       "      <td>nc</td>\n",
       "      <td>satisfactorio</td>\n",
       "      <td>nc</td>\n",
       "      <td>-1.00000</td>\n",
       "      <td>35.920963</td>\n",
       "      <td>-1.000000</td>\n",
       "      <td>...</td>\n",
       "      <td>nc</td>\n",
       "      <td>nc</td>\n",
       "      <td>nc</td>\n",
       "      <td>nc</td>\n",
       "      <td>nc</td>\n",
       "      <td>nc</td>\n",
       "      <td>nc</td>\n",
       "      <td>180540909</td>\n",
       "      <td>2</td>\n",
       "      <td>2013</td>\n",
       "    </tr>\n",
       "    <tr>\n",
       "      <th>2</th>\n",
       "      <td>3</td>\n",
       "      <td>nc</td>\n",
       "      <td>NaN</td>\n",
       "      <td>satisfactorio</td>\n",
       "      <td>basico</td>\n",
       "      <td>nc</td>\n",
       "      <td>nc</td>\n",
       "      <td>33.28981</td>\n",
       "      <td>35.920963</td>\n",
       "      <td>-1.000000</td>\n",
       "      <td>...</td>\n",
       "      <td>nc</td>\n",
       "      <td>nc</td>\n",
       "      <td>nc</td>\n",
       "      <td>nc</td>\n",
       "      <td>nc</td>\n",
       "      <td>nc</td>\n",
       "      <td>nc</td>\n",
       "      <td>220168311</td>\n",
       "      <td>2</td>\n",
       "      <td>2013</td>\n",
       "    </tr>\n",
       "    <tr>\n",
       "      <th>3</th>\n",
       "      <td>4</td>\n",
       "      <td>nc</td>\n",
       "      <td>NaN</td>\n",
       "      <td>avanzado</td>\n",
       "      <td>avanzado</td>\n",
       "      <td>satisfactorio</td>\n",
       "      <td>satisfactorio</td>\n",
       "      <td>33.28981</td>\n",
       "      <td>35.920963</td>\n",
       "      <td>42.752556</td>\n",
       "      <td>...</td>\n",
       "      <td>nc</td>\n",
       "      <td>nc</td>\n",
       "      <td>nc</td>\n",
       "      <td>nc</td>\n",
       "      <td>nc</td>\n",
       "      <td>nc</td>\n",
       "      <td>nc</td>\n",
       "      <td>240757212</td>\n",
       "      <td>2</td>\n",
       "      <td>2013</td>\n",
       "    </tr>\n",
       "    <tr>\n",
       "      <th>4</th>\n",
       "      <td>5</td>\n",
       "      <td>nc</td>\n",
       "      <td>NaN</td>\n",
       "      <td>basico</td>\n",
       "      <td>satisfactorio</td>\n",
       "      <td>nc</td>\n",
       "      <td>basico</td>\n",
       "      <td>33.28981</td>\n",
       "      <td>35.920963</td>\n",
       "      <td>42.752556</td>\n",
       "      <td>...</td>\n",
       "      <td>nc</td>\n",
       "      <td>nc</td>\n",
       "      <td>nc</td>\n",
       "      <td>nc</td>\n",
       "      <td>nc</td>\n",
       "      <td>nc</td>\n",
       "      <td>nc</td>\n",
       "      <td>262003313</td>\n",
       "      <td>2</td>\n",
       "      <td>2013</td>\n",
       "    </tr>\n",
       "  </tbody>\n",
       "</table>\n",
       "<p>5 rows × 25 columns</p>\n",
       "</div>"
      ],
      "text/plain": [
       "   id sexo indice_socioeconomico nivel_desemp_matematica nivel_desemp_lengua  \\\n",
       "0   1   nc                   NaN           satisfactorio                  nc   \n",
       "1   2   nc                   NaN           satisfactorio                  nc   \n",
       "2   3   nc                   NaN           satisfactorio              basico   \n",
       "3   4   nc                   NaN                avanzado            avanzado   \n",
       "4   5   nc                   NaN                  basico       satisfactorio   \n",
       "\n",
       "  nivel_desemp_ciencias_sociales nivel_desemp_ciencias_naturales  \\\n",
       "0                  satisfactorio                   satisfactorio   \n",
       "1                  satisfactorio                              nc   \n",
       "2                             nc                              nc   \n",
       "3                  satisfactorio                   satisfactorio   \n",
       "4                             nc                          basico   \n",
       "\n",
       "   ponderador_lengua  ponderador_matematica  ponderador_ciencias_naturales  \\\n",
       "0           -1.00000              35.920963                      42.752556   \n",
       "1           -1.00000              35.920963                      -1.000000   \n",
       "2           33.28981              35.920963                      -1.000000   \n",
       "3           33.28981              35.920963                      42.752556   \n",
       "4           33.28981              35.920963                      42.752556   \n",
       "\n",
       "   ...  tiene_smartphone tiene_consola tiene_smarttv tiene_cable  \\\n",
       "0  ...                nc            nc            nc          nc   \n",
       "1  ...                nc            nc            nc          nc   \n",
       "2  ...                nc            nc            nc          nc   \n",
       "3  ...                nc            nc            nc          nc   \n",
       "4  ...                nc            nc            nc          nc   \n",
       "\n",
       "  tiene_internet repeticion_primaria repeticion_secundaria escuela_id  \\\n",
       "0             nc                  nc                    nc  120240006   \n",
       "1             nc                  nc                    nc  180540909   \n",
       "2             nc                  nc                    nc  220168311   \n",
       "3             nc                  nc                    nc  240757212   \n",
       "4             nc                  nc                    nc  262003313   \n",
       "\n",
       "  nivel_id year_id  \n",
       "0        2    2013  \n",
       "1        2    2013  \n",
       "2        2    2013  \n",
       "3        2    2013  \n",
       "4        2    2013  \n",
       "\n",
       "[5 rows x 25 columns]"
      ]
     },
     "execution_count": 5,
     "metadata": {},
     "output_type": "execute_result"
    }
   ],
   "source": [
    "data_alumnos.head(5)"
   ]
  },
  {
   "cell_type": "code",
   "execution_count": 6,
   "metadata": {},
   "outputs": [
    {
     "data": {
      "text/plain": [
       "nc    823198\n",
       "f     516327\n",
       "m     496185\n",
       "Name: sexo, dtype: int64"
      ]
     },
     "execution_count": 6,
     "metadata": {},
     "output_type": "execute_result"
    }
   ],
   "source": [
    "data_alumnos['sexo'].value_counts()"
   ]
  },
  {
   "cell_type": "code",
   "execution_count": 7,
   "metadata": {},
   "outputs": [
    {
     "data": {
      "text/plain": [
       "nc    1081758\n",
       "no     382973\n",
       "si     370979\n",
       "Name: tiene_smarttv, dtype: int64"
      ]
     },
     "execution_count": 7,
     "metadata": {},
     "output_type": "execute_result"
    }
   ],
   "source": [
    "data_alumnos['tiene_smarttv'].value_counts()"
   ]
  },
  {
   "cell_type": "code",
   "execution_count": 8,
   "metadata": {},
   "outputs": [
    {
     "data": {
      "text/plain": [
       "2    1151819\n",
       "3     683891\n",
       "Name: nivel_id, dtype: int64"
      ]
     },
     "execution_count": 8,
     "metadata": {},
     "output_type": "execute_result"
    }
   ],
   "source": [
    "data_alumnos['nivel_id'].value_counts()"
   ]
  },
  {
   "cell_type": "code",
   "execution_count": 9,
   "metadata": {},
   "outputs": [
    {
     "data": {
      "text/plain": [
       "medio    805723\n",
       "alto     228694\n",
       "nc       227551\n",
       "bajo     201202\n",
       "Name: indice_socioeconomico, dtype: int64"
      ]
     },
     "execution_count": 9,
     "metadata": {},
     "output_type": "execute_result"
    }
   ],
   "source": [
    "data_alumnos['indice_socioeconomico'].value_counts()"
   ]
  },
  {
   "cell_type": "code",
   "execution_count": 10,
   "metadata": {},
   "outputs": [
    {
     "data": {
      "text/plain": [
       "nc    1081758\n",
       "si     508061\n",
       "no     245891\n",
       "Name: tiene_internet, dtype: int64"
      ]
     },
     "execution_count": 10,
     "metadata": {},
     "output_type": "execute_result"
    }
   ],
   "source": [
    "data_alumnos['tiene_internet'].value_counts()"
   ]
  },
  {
   "cell_type": "code",
   "execution_count": 11,
   "metadata": {},
   "outputs": [
    {
     "data": {
      "text/plain": [
       "nc    1081758\n",
       "si     439973\n",
       "no     313979\n",
       "Name: tiene_cable, dtype: int64"
      ]
     },
     "execution_count": 11,
     "metadata": {},
     "output_type": "execute_result"
    }
   ],
   "source": [
    "data_alumnos['tiene_cable'].value_counts()"
   ]
  },
  {
   "cell_type": "code",
   "execution_count": 12,
   "metadata": {},
   "outputs": [
    {
     "data": {
      "text/plain": [
       "2016    893223\n",
       "2017    569947\n",
       "2013    372540\n",
       "Name: year_id, dtype: int64"
      ]
     },
     "execution_count": 12,
     "metadata": {},
     "output_type": "execute_result"
    }
   ],
   "source": [
    "data_alumnos['year_id'].value_counts()"
   ]
  },
  {
   "cell_type": "code",
   "execution_count": 13,
   "metadata": {},
   "outputs": [
    {
     "data": {
      "text/plain": [
       "nc                  1776221\n",
       "no                    49110\n",
       "una_vez                7656\n",
       "dos_veces              2202\n",
       "tres_veces_o_mas        521\n",
       "Name: repeticion_secundaria, dtype: int64"
      ]
     },
     "execution_count": 13,
     "metadata": {},
     "output_type": "execute_result"
    }
   ],
   "source": [
    "data_alumnos['repeticion_secundaria'].value_counts()"
   ]
  },
  {
   "cell_type": "code",
   "execution_count": 14,
   "metadata": {},
   "outputs": [
    {
     "data": {
      "text/plain": [
       "no                  963219\n",
       "nc                  753052\n",
       "una_vez              95641\n",
       "dos_veces            17853\n",
       "tres_veces_o_mas      5945\n",
       "Name: repeticion_primaria, dtype: int64"
      ]
     },
     "execution_count": 14,
     "metadata": {},
     "output_type": "execute_result"
    }
   ],
   "source": [
    "data_alumnos['repeticion_primaria'].value_counts()"
   ]
  },
  {
   "cell_type": "code",
   "execution_count": 15,
   "metadata": {},
   "outputs": [
    {
     "data": {
      "text/plain": [
       "<matplotlib.axes._subplots.AxesSubplot at 0x7f49b7280f28>"
      ]
     },
     "execution_count": 15,
     "metadata": {},
     "output_type": "execute_result"
    },
    {
     "data": {
      "image/png": "[encoded data removed]",
      "text/plain": [
       "<Figure size 432x288 with 1 Axes>"
      ]
     },
     "metadata": {
      "needs_background": "light"
     },
     "output_type": "display_data"
    }
   ],
   "source": [
    "data_alumnos['nivel_desemp_matematica'].value_counts().plot.bar()"
   ]
  },
  {
   "cell_type": "code",
   "execution_count": 16,
   "metadata": {},
   "outputs": [
    {
     "data": {
      "text/plain": [
       "<matplotlib.axes._subplots.AxesSubplot at 0x7f49b51af4e0>"
      ]
     },
     "execution_count": 16,
     "metadata": {},
     "output_type": "execute_result"
    },
    {
     "data": {
      "image/png": "[encoded data removed]",
      "text/plain": [
       "<Figure size 432x288 with 1 Axes>"
      ]
     },
     "metadata": {
      "needs_background": "light"
     },
     "output_type": "display_data"
    }
   ],
   "source": [
    "data_alumnos['nivel_desemp_lengua'].value_counts().plot.bar()"
   ]
  },
  {
   "cell_type": "code",
   "execution_count": 17,
   "metadata": {},
   "outputs": [
    {
     "data": {
      "text/plain": [
       "<matplotlib.axes._subplots.AxesSubplot at 0x7f49b4d14828>"
      ]
     },
     "execution_count": 17,
     "metadata": {},
     "output_type": "execute_result"
    },
    {
     "data": {
      "image/png": "[encoded data removed]",
      "text/plain": [
       "<Figure size 432x288 with 1 Axes>"
      ]
     },
     "metadata": {
      "needs_background": "light"
     },
     "output_type": "display_data"
    }
   ],
   "source": [
    "data_alumnos['nivel_desemp_ciencias_sociales'].value_counts().plot.bar()"
   ]
  },
  {
   "cell_type": "code",
   "execution_count": 18,
   "metadata": {},
   "outputs": [
    {
     "data": {
      "text/plain": [
       "<matplotlib.axes._subplots.AxesSubplot at 0xcafc358>"
      ]
     },
     "execution_count": 18,
     "metadata": {},
     "output_type": "execute_result"
    },
    {
     "data": {
      "image/png": "[encoded data removed]",
      "text/plain": [
       "<Figure size 432x288 with 1 Axes>"
      ]
     },
     "metadata": {
      "needs_background": "light"
     },
     "output_type": "display_data"
    }
   ],
   "source": [
    "data_alumnos['nivel_desemp_ciencias_sociales'].value_counts().plot.bar()"
   ]
  },
  {
   "cell_type": "code",
   "execution_count": 18,
   "metadata": {},
   "outputs": [],
   "source": [
    "data_salarios = pd.read_csv('app_salario.csv')\n"
   ]
  },
  {
   "cell_type": "code",
   "execution_count": 19,
   "metadata": {},
   "outputs": [],
   "source": [
    "data_salarios.rename(columns = {'provincias_id': 'provincia_id'}, inplace = True)"
   ]
  },
  {
   "cell_type": "code",
   "execution_count": 20,
   "metadata": {},
   "outputs": [
    {
     "data": {
      "text/html": [
       "<div>\n",
       "<style scoped>\n",
       "    .dataframe tbody tr th:only-of-type {\n",
       "        vertical-align: middle;\n",
       "    }\n",
       "\n",
       "    .dataframe tbody tr th {\n",
       "        vertical-align: top;\n",
       "    }\n",
       "\n",
       "    .dataframe thead th {\n",
       "        text-align: right;\n",
       "    }\n",
       "</style>\n",
       "<table border=\"1\" class=\"dataframe\">\n",
       "  <thead>\n",
       "    <tr style=\"text-align: right;\">\n",
       "      <th></th>\n",
       "      <th>id</th>\n",
       "      <th>name</th>\n",
       "      <th>value</th>\n",
       "      <th>provincia_id</th>\n",
       "      <th>year_id</th>\n",
       "    </tr>\n",
       "  </thead>\n",
       "  <tbody>\n",
       "    <tr>\n",
       "      <th>0</th>\n",
       "      <td>1</td>\n",
       "      <td>maestro_inicial</td>\n",
       "      <td>3239.80</td>\n",
       "      <td>4</td>\n",
       "      <td>2011</td>\n",
       "    </tr>\n",
       "    <tr>\n",
       "      <th>1</th>\n",
       "      <td>2</td>\n",
       "      <td>maestro_inicial</td>\n",
       "      <td>3952.38</td>\n",
       "      <td>4</td>\n",
       "      <td>2012</td>\n",
       "    </tr>\n",
       "    <tr>\n",
       "      <th>2</th>\n",
       "      <td>3</td>\n",
       "      <td>maestro_inicial</td>\n",
       "      <td>4927.31</td>\n",
       "      <td>4</td>\n",
       "      <td>2013</td>\n",
       "    </tr>\n",
       "    <tr>\n",
       "      <th>3</th>\n",
       "      <td>4</td>\n",
       "      <td>maestro_inicial</td>\n",
       "      <td>6458.29</td>\n",
       "      <td>4</td>\n",
       "      <td>2014</td>\n",
       "    </tr>\n",
       "    <tr>\n",
       "      <th>4</th>\n",
       "      <td>5</td>\n",
       "      <td>maestro_inicial</td>\n",
       "      <td>8521.76</td>\n",
       "      <td>4</td>\n",
       "      <td>2015</td>\n",
       "    </tr>\n",
       "  </tbody>\n",
       "</table>\n",
       "</div>"
      ],
      "text/plain": [
       "   id             name    value  provincia_id  year_id\n",
       "0   1  maestro_inicial  3239.80             4     2011\n",
       "1   2  maestro_inicial  3952.38             4     2012\n",
       "2   3  maestro_inicial  4927.31             4     2013\n",
       "3   4  maestro_inicial  6458.29             4     2014\n",
       "4   5  maestro_inicial  8521.76             4     2015"
      ]
     },
     "execution_count": 20,
     "metadata": {},
     "output_type": "execute_result"
    }
   ],
   "source": [
    "data_salarios.head()"
   ]
  },
  {
   "cell_type": "code",
   "execution_count": 21,
   "metadata": {},
   "outputs": [
    {
     "data": {
      "text/html": [
       "<div>\n",
       "<style scoped>\n",
       "    .dataframe tbody tr th:only-of-type {\n",
       "        vertical-align: middle;\n",
       "    }\n",
       "\n",
       "    .dataframe tbody tr th {\n",
       "        vertical-align: top;\n",
       "    }\n",
       "\n",
       "    .dataframe thead tr th {\n",
       "        text-align: left;\n",
       "    }\n",
       "\n",
       "    .dataframe thead tr:last-of-type th {\n",
       "        text-align: right;\n",
       "    }\n",
       "</style>\n",
       "<table border=\"1\" class=\"dataframe\">\n",
       "  <thead>\n",
       "    <tr>\n",
       "      <th></th>\n",
       "      <th colspan=\"21\" halign=\"left\">value</th>\n",
       "    </tr>\n",
       "    <tr>\n",
       "      <th>provincia_id</th>\n",
       "      <th>0</th>\n",
       "      <th>1</th>\n",
       "      <th>2</th>\n",
       "      <th>3</th>\n",
       "      <th>4</th>\n",
       "      <th>5</th>\n",
       "      <th>6</th>\n",
       "      <th>7</th>\n",
       "      <th>8</th>\n",
       "      <th>9</th>\n",
       "      <th>...</th>\n",
       "      <th>14</th>\n",
       "      <th>15</th>\n",
       "      <th>16</th>\n",
       "      <th>17</th>\n",
       "      <th>18</th>\n",
       "      <th>19</th>\n",
       "      <th>20</th>\n",
       "      <th>21</th>\n",
       "      <th>22</th>\n",
       "      <th>23</th>\n",
       "    </tr>\n",
       "    <tr>\n",
       "      <th>name</th>\n",
       "      <th></th>\n",
       "      <th></th>\n",
       "      <th></th>\n",
       "      <th></th>\n",
       "      <th></th>\n",
       "      <th></th>\n",
       "      <th></th>\n",
       "      <th></th>\n",
       "      <th></th>\n",
       "      <th></th>\n",
       "      <th></th>\n",
       "      <th></th>\n",
       "      <th></th>\n",
       "      <th></th>\n",
       "      <th></th>\n",
       "      <th></th>\n",
       "      <th></th>\n",
       "      <th></th>\n",
       "      <th></th>\n",
       "      <th></th>\n",
       "      <th></th>\n",
       "    </tr>\n",
       "  </thead>\n",
       "  <tbody>\n",
       "    <tr>\n",
       "      <th>director_primaria</th>\n",
       "      <td>10590.300000</td>\n",
       "      <td>8032.363333</td>\n",
       "      <td>8208.303333</td>\n",
       "      <td>15861.793333</td>\n",
       "      <td>15591.468333</td>\n",
       "      <td>11191.198333</td>\n",
       "      <td>11649.725000</td>\n",
       "      <td>9495.528333</td>\n",
       "      <td>9169.688333</td>\n",
       "      <td>10893.456667</td>\n",
       "      <td>...</td>\n",
       "      <td>15896.618333</td>\n",
       "      <td>11977.723333</td>\n",
       "      <td>10242.498333</td>\n",
       "      <td>10097.433333</td>\n",
       "      <td>11988.693333</td>\n",
       "      <td>23895.288333</td>\n",
       "      <td>13268.220000</td>\n",
       "      <td>7708.900000</td>\n",
       "      <td>21334.815000</td>\n",
       "      <td>11861.920000</td>\n",
       "    </tr>\n",
       "    <tr>\n",
       "      <th>director_secundaria</th>\n",
       "      <td>9612.251667</td>\n",
       "      <td>8741.111667</td>\n",
       "      <td>9898.366667</td>\n",
       "      <td>14380.531667</td>\n",
       "      <td>14891.018333</td>\n",
       "      <td>11737.846667</td>\n",
       "      <td>13340.688333</td>\n",
       "      <td>10796.145000</td>\n",
       "      <td>12860.746667</td>\n",
       "      <td>12436.906667</td>\n",
       "      <td>...</td>\n",
       "      <td>16202.193333</td>\n",
       "      <td>12326.946667</td>\n",
       "      <td>10232.015000</td>\n",
       "      <td>10885.628333</td>\n",
       "      <td>11988.693333</td>\n",
       "      <td>23895.288333</td>\n",
       "      <td>14258.946667</td>\n",
       "      <td>8239.858333</td>\n",
       "      <td>22323.261667</td>\n",
       "      <td>12576.261667</td>\n",
       "    </tr>\n",
       "    <tr>\n",
       "      <th>maestro_de_grado</th>\n",
       "      <td>6536.330000</td>\n",
       "      <td>5295.845000</td>\n",
       "      <td>6611.308333</td>\n",
       "      <td>7942.108333</td>\n",
       "      <td>6479.161667</td>\n",
       "      <td>6057.721667</td>\n",
       "      <td>8700.723333</td>\n",
       "      <td>6447.763333</td>\n",
       "      <td>5463.141667</td>\n",
       "      <td>6736.598333</td>\n",
       "      <td>...</td>\n",
       "      <td>8015.066667</td>\n",
       "      <td>6688.251667</td>\n",
       "      <td>6888.640000</td>\n",
       "      <td>6697.511667</td>\n",
       "      <td>7122.748333</td>\n",
       "      <td>10877.638333</td>\n",
       "      <td>8297.658333</td>\n",
       "      <td>5275.370000</td>\n",
       "      <td>10005.365000</td>\n",
       "      <td>7086.833333</td>\n",
       "    </tr>\n",
       "    <tr>\n",
       "      <th>maestro_inicial</th>\n",
       "      <td>6536.330000</td>\n",
       "      <td>5322.810000</td>\n",
       "      <td>6837.931667</td>\n",
       "      <td>7942.108333</td>\n",
       "      <td>6474.033333</td>\n",
       "      <td>6103.966667</td>\n",
       "      <td>8700.723333</td>\n",
       "      <td>6509.451667</td>\n",
       "      <td>5550.605000</td>\n",
       "      <td>6133.965000</td>\n",
       "      <td>...</td>\n",
       "      <td>8142.171667</td>\n",
       "      <td>6688.251667</td>\n",
       "      <td>7299.358333</td>\n",
       "      <td>6720.260000</td>\n",
       "      <td>7087.830000</td>\n",
       "      <td>10877.638333</td>\n",
       "      <td>8296.828333</td>\n",
       "      <td>5310.771667</td>\n",
       "      <td>10005.365000</td>\n",
       "      <td>7209.056667</td>\n",
       "    </tr>\n",
       "    <tr>\n",
       "      <th>profesor_secundaria_15hs</th>\n",
       "      <td>6186.735000</td>\n",
       "      <td>6272.420000</td>\n",
       "      <td>7033.627500</td>\n",
       "      <td>7469.485000</td>\n",
       "      <td>6194.530000</td>\n",
       "      <td>6851.005000</td>\n",
       "      <td>7711.210000</td>\n",
       "      <td>5344.980000</td>\n",
       "      <td>6644.375000</td>\n",
       "      <td>7466.802500</td>\n",
       "      <td>...</td>\n",
       "      <td>7573.367500</td>\n",
       "      <td>5373.532500</td>\n",
       "      <td>6817.185000</td>\n",
       "      <td>7809.622500</td>\n",
       "      <td>8580.820000</td>\n",
       "      <td>11115.475000</td>\n",
       "      <td>6230.132500</td>\n",
       "      <td>6135.082500</td>\n",
       "      <td>8968.790000</td>\n",
       "      <td>8674.850000</td>\n",
       "    </tr>\n",
       "    <tr>\n",
       "      <th>profesor_snu</th>\n",
       "      <td>6186.735000</td>\n",
       "      <td>6274.185000</td>\n",
       "      <td>6748.882500</td>\n",
       "      <td>7438.262500</td>\n",
       "      <td>5570.637500</td>\n",
       "      <td>6789.287500</td>\n",
       "      <td>7141.452500</td>\n",
       "      <td>5534.207500</td>\n",
       "      <td>6637.830000</td>\n",
       "      <td>7767.230000</td>\n",
       "      <td>...</td>\n",
       "      <td>6673.295000</td>\n",
       "      <td>5939.677500</td>\n",
       "      <td>6166.342500</td>\n",
       "      <td>7700.402500</td>\n",
       "      <td>8405.772500</td>\n",
       "      <td>10739.050000</td>\n",
       "      <td>6227.882500</td>\n",
       "      <td>6129.317500</td>\n",
       "      <td>8154.087500</td>\n",
       "      <td>8656.112500</td>\n",
       "    </tr>\n",
       "  </tbody>\n",
       "</table>\n",
       "<p>6 rows × 24 columns</p>\n",
       "</div>"
      ],
      "text/plain": [
       "                                 value                            \\\n",
       "provincia_id                        0            1            2    \n",
       "name                                                               \n",
       "director_primaria         10590.300000  8032.363333  8208.303333   \n",
       "director_secundaria        9612.251667  8741.111667  9898.366667   \n",
       "maestro_de_grado           6536.330000  5295.845000  6611.308333   \n",
       "maestro_inicial            6536.330000  5322.810000  6837.931667   \n",
       "profesor_secundaria_15hs   6186.735000  6272.420000  7033.627500   \n",
       "profesor_snu               6186.735000  6274.185000  6748.882500   \n",
       "\n",
       "                                                                    \\\n",
       "provincia_id                        3             4             5    \n",
       "name                                                                 \n",
       "director_primaria         15861.793333  15591.468333  11191.198333   \n",
       "director_secundaria       14380.531667  14891.018333  11737.846667   \n",
       "maestro_de_grado           7942.108333   6479.161667   6057.721667   \n",
       "maestro_inicial            7942.108333   6474.033333   6103.966667   \n",
       "profesor_secundaria_15hs   7469.485000   6194.530000   6851.005000   \n",
       "profesor_snu               7438.262500   5570.637500   6789.287500   \n",
       "\n",
       "                                                                    \\\n",
       "provincia_id                        6             7             8    \n",
       "name                                                                 \n",
       "director_primaria         11649.725000   9495.528333   9169.688333   \n",
       "director_secundaria       13340.688333  10796.145000  12860.746667   \n",
       "maestro_de_grado           8700.723333   6447.763333   5463.141667   \n",
       "maestro_inicial            8700.723333   6509.451667   5550.605000   \n",
       "profesor_secundaria_15hs   7711.210000   5344.980000   6644.375000   \n",
       "profesor_snu               7141.452500   5534.207500   6637.830000   \n",
       "\n",
       "                                        ...                              \\\n",
       "provincia_id                        9   ...            14            15   \n",
       "name                                    ...                               \n",
       "director_primaria         10893.456667  ...  15896.618333  11977.723333   \n",
       "director_secundaria       12436.906667  ...  16202.193333  12326.946667   \n",
       "maestro_de_grado           6736.598333  ...   8015.066667   6688.251667   \n",
       "maestro_inicial            6133.965000  ...   8142.171667   6688.251667   \n",
       "profesor_secundaria_15hs   7466.802500  ...   7573.367500   5373.532500   \n",
       "profesor_snu               7767.230000  ...   6673.295000   5939.677500   \n",
       "\n",
       "                                                                    \\\n",
       "provincia_id                        16            17            18   \n",
       "name                                                                 \n",
       "director_primaria         10242.498333  10097.433333  11988.693333   \n",
       "director_secundaria       10232.015000  10885.628333  11988.693333   \n",
       "maestro_de_grado           6888.640000   6697.511667   7122.748333   \n",
       "maestro_inicial            7299.358333   6720.260000   7087.830000   \n",
       "profesor_secundaria_15hs   6817.185000   7809.622500   8580.820000   \n",
       "profesor_snu               6166.342500   7700.402500   8405.772500   \n",
       "\n",
       "                                                                   \\\n",
       "provincia_id                        19            20           21   \n",
       "name                                                                \n",
       "director_primaria         23895.288333  13268.220000  7708.900000   \n",
       "director_secundaria       23895.288333  14258.946667  8239.858333   \n",
       "maestro_de_grado          10877.638333   8297.658333  5275.370000   \n",
       "maestro_inicial           10877.638333   8296.828333  5310.771667   \n",
       "profesor_secundaria_15hs  11115.475000   6230.132500  6135.082500   \n",
       "profesor_snu              10739.050000   6227.882500  6129.317500   \n",
       "\n",
       "                                                      \n",
       "provincia_id                        22            23  \n",
       "name                                                  \n",
       "director_primaria         21334.815000  11861.920000  \n",
       "director_secundaria       22323.261667  12576.261667  \n",
       "maestro_de_grado          10005.365000   7086.833333  \n",
       "maestro_inicial           10005.365000   7209.056667  \n",
       "profesor_secundaria_15hs   8968.790000   8674.850000  \n",
       "profesor_snu               8154.087500   8656.112500  \n",
       "\n",
       "[6 rows x 24 columns]"
      ]
     },
     "execution_count": 21,
     "metadata": {},
     "output_type": "execute_result"
    }
   ],
   "source": [
    "pd.pivot_table(data_salarios, index=['name'],\n",
    "                        columns=['provincia_id'],\n",
    "                        values=['value'],\n",
    "                        )"
   ]
  },
  {
   "cell_type": "code",
   "execution_count": 22,
   "metadata": {},
   "outputs": [],
   "source": [
    "data_escuela = pd.read_csv('app_escuela.csv')\n"
   ]
  },
  {
   "cell_type": "code",
   "execution_count": 23,
   "metadata": {
    "scrolled": true
   },
   "outputs": [
    {
     "data": {
      "text/html": [
       "<div>\n",
       "<style scoped>\n",
       "    .dataframe tbody tr th:only-of-type {\n",
       "        vertical-align: middle;\n",
       "    }\n",
       "\n",
       "    .dataframe tbody tr th {\n",
       "        vertical-align: top;\n",
       "    }\n",
       "\n",
       "    .dataframe thead th {\n",
       "        text-align: right;\n",
       "    }\n",
       "</style>\n",
       "<table border=\"1\" class=\"dataframe\">\n",
       "  <thead>\n",
       "    <tr style=\"text-align: right;\">\n",
       "      <th></th>\n",
       "      <th>id</th>\n",
       "      <th>ambito</th>\n",
       "      <th>gestion</th>\n",
       "      <th>icse</th>\n",
       "      <th>icse_cat</th>\n",
       "      <th>indice_socioeconomico_medio</th>\n",
       "      <th>indice_socioeconomico_medio_cat</th>\n",
       "      <th>tecnica</th>\n",
       "      <th>tiene_internet</th>\n",
       "      <th>subvencion</th>\n",
       "      <th>dependencia</th>\n",
       "      <th>departamento_id</th>\n",
       "      <th>provincia_id</th>\n",
       "    </tr>\n",
       "  </thead>\n",
       "  <tbody>\n",
       "    <tr>\n",
       "      <th>0</th>\n",
       "      <td>11341915221</td>\n",
       "      <td>urbano</td>\n",
       "      <td>estatal</td>\n",
       "      <td>0.656</td>\n",
       "      <td>critico</td>\n",
       "      <td>1.000000</td>\n",
       "      <td>tercil_bajo</td>\n",
       "      <td>f</td>\n",
       "      <td>f</td>\n",
       "      <td>No corresponde</td>\n",
       "      <td>provincial</td>\n",
       "      <td>178.0</td>\n",
       "      <td>13</td>\n",
       "    </tr>\n",
       "    <tr>\n",
       "      <th>1</th>\n",
       "      <td>2317536438</td>\n",
       "      <td>urbano</td>\n",
       "      <td>privada</td>\n",
       "      <td>-1.000</td>\n",
       "      <td>NaN</td>\n",
       "      <td>2.133333</td>\n",
       "      <td>tercil_alto</td>\n",
       "      <td>f</td>\n",
       "      <td>t</td>\n",
       "      <td>Subvención Total</td>\n",
       "      <td>provincial</td>\n",
       "      <td>44.0</td>\n",
       "      <td>0</td>\n",
       "    </tr>\n",
       "    <tr>\n",
       "      <th>2</th>\n",
       "      <td>1143119819</td>\n",
       "      <td>urbano</td>\n",
       "      <td>estatal</td>\n",
       "      <td>0.101</td>\n",
       "      <td>bajo_y_medio</td>\n",
       "      <td>1.833333</td>\n",
       "      <td>tercil_medio</td>\n",
       "      <td>f</td>\n",
       "      <td>f</td>\n",
       "      <td>No corresponde</td>\n",
       "      <td>provincial</td>\n",
       "      <td>1.0</td>\n",
       "      <td>0</td>\n",
       "    </tr>\n",
       "    <tr>\n",
       "      <th>3</th>\n",
       "      <td>8740979823</td>\n",
       "      <td>urbano</td>\n",
       "      <td>estatal</td>\n",
       "      <td>0.452</td>\n",
       "      <td>alto</td>\n",
       "      <td>1.652174</td>\n",
       "      <td>tercil_bajo</td>\n",
       "      <td>f</td>\n",
       "      <td>t</td>\n",
       "      <td>No corresponde</td>\n",
       "      <td>provincial</td>\n",
       "      <td>136.0</td>\n",
       "      <td>9</td>\n",
       "    </tr>\n",
       "    <tr>\n",
       "      <th>4</th>\n",
       "      <td>12420777423</td>\n",
       "      <td>rural</td>\n",
       "      <td>estatal</td>\n",
       "      <td>0.666</td>\n",
       "      <td>critico</td>\n",
       "      <td>1.000000</td>\n",
       "      <td>tercil_bajo</td>\n",
       "      <td>f</td>\n",
       "      <td>t</td>\n",
       "      <td>No corresponde</td>\n",
       "      <td>provincial</td>\n",
       "      <td>168.0</td>\n",
       "      <td>13</td>\n",
       "    </tr>\n",
       "  </tbody>\n",
       "</table>\n",
       "</div>"
      ],
      "text/plain": [
       "            id  ambito  gestion   icse      icse_cat  \\\n",
       "0  11341915221  urbano  estatal  0.656       critico   \n",
       "1   2317536438  urbano  privada -1.000           NaN   \n",
       "2   1143119819  urbano  estatal  0.101  bajo_y_medio   \n",
       "3   8740979823  urbano  estatal  0.452          alto   \n",
       "4  12420777423   rural  estatal  0.666       critico   \n",
       "\n",
       "   indice_socioeconomico_medio indice_socioeconomico_medio_cat tecnica  \\\n",
       "0                     1.000000                     tercil_bajo       f   \n",
       "1                     2.133333                     tercil_alto       f   \n",
       "2                     1.833333                    tercil_medio       f   \n",
       "3                     1.652174                     tercil_bajo       f   \n",
       "4                     1.000000                     tercil_bajo       f   \n",
       "\n",
       "  tiene_internet        subvencion dependencia  departamento_id  provincia_id  \n",
       "0              f    No corresponde  provincial            178.0            13  \n",
       "1              t  Subvención Total  provincial             44.0             0  \n",
       "2              f    No corresponde  provincial              1.0             0  \n",
       "3              t    No corresponde  provincial            136.0             9  \n",
       "4              t    No corresponde  provincial            168.0            13  "
      ]
     },
     "execution_count": 23,
     "metadata": {},
     "output_type": "execute_result"
    }
   ],
   "source": [
    "data_escuela.head()"
   ]
  },
  {
   "cell_type": "code",
   "execution_count": 24,
   "metadata": {},
   "outputs": [],
   "source": [
    "data_escuela.rename(columns = {'id': 'escuela_id'}, inplace = True)"
   ]
  },
  {
   "cell_type": "code",
   "execution_count": 25,
   "metadata": {},
   "outputs": [
    {
     "data": {
      "image/png": "[encoded data removed]",
      "text/plain": [
       "<Figure size 432x432 with 1 Axes>"
      ]
     },
     "metadata": {},
     "output_type": "display_data"
    }
   ],
   "source": [
    "plot = data_escuela['ambito'].value_counts().plot(kind='pie', autopct='%.2f', \n",
    "                                            figsize=(6, 6),\n",
    "                                            title='ambito ')"
   ]
  },
  {
   "cell_type": "code",
   "execution_count": 26,
   "metadata": {},
   "outputs": [
    {
     "data": {
      "image/png": "[encoded data removed]",
      "text/plain": [
       "<Figure size 432x432 with 1 Axes>"
      ]
     },
     "metadata": {},
     "output_type": "display_data"
    }
   ],
   "source": [
    "plot = data_escuela['gestion'].value_counts().plot(kind='pie', autopct='%.2f', \n",
    "                                            figsize=(6, 6),\n",
    "                                            title='gestion')"
   ]
  },
  {
   "cell_type": "code",
   "execution_count": 27,
   "metadata": {},
   "outputs": [
    {
     "data": {
      "text/plain": [
       "f    64258\n",
       "t     1474\n",
       "Name: tecnica, dtype: int64"
      ]
     },
     "execution_count": 27,
     "metadata": {},
     "output_type": "execute_result"
    }
   ],
   "source": [
    "data_escuela['tecnica'].value_counts()"
   ]
  },
  {
   "cell_type": "code",
   "execution_count": 28,
   "metadata": {},
   "outputs": [
    {
     "data": {
      "text/plain": [
       "<matplotlib.axes._subplots.AxesSubplot at 0x7f49b4bc06d8>"
      ]
     },
     "execution_count": 28,
     "metadata": {},
     "output_type": "execute_result"
    },
    {
     "data": {
      "image/png": "[encoded data removed]",
      "text/plain": [
       "<Figure size 432x288 with 1 Axes>"
      ]
     },
     "metadata": {
      "needs_background": "light"
     },
     "output_type": "display_data"
    }
   ],
   "source": [
    "data_escuela['icse_cat'].value_counts().plot.bar()"
   ]
  },
  {
   "cell_type": "code",
   "execution_count": 29,
   "metadata": {},
   "outputs": [
    {
     "data": {
      "image/png": "[encoded data removed]",
      "text/plain": [
       "<Figure size 432x432 with 1 Axes>"
      ]
     },
     "metadata": {},
     "output_type": "display_data"
    }
   ],
   "source": [
    "plot = data_escuela['indice_socioeconomico_medio_cat'].value_counts().plot(kind='pie', autopct='%.2f', \n",
    "                                            figsize=(6, 6),\n",
    "                                            title='indice_socioeconomico_medio_cat')"
   ]
  },
  {
   "cell_type": "code",
   "execution_count": 30,
   "metadata": {},
   "outputs": [
    {
     "data": {
      "image/png": "[encoded data removed]",
      "text/plain": [
       "<Figure size 432x432 with 1 Axes>"
      ]
     },
     "metadata": {},
     "output_type": "display_data"
    }
   ],
   "source": [
    "plot = data_escuela['subvencion'].value_counts().plot(kind='pie', autopct='%.2f', \n",
    "                                            figsize=(6, 6),\n",
    "                                            title='subvencion')"
   ]
  },
  {
   "cell_type": "code",
   "execution_count": 31,
   "metadata": {},
   "outputs": [
    {
     "data": {
      "text/plain": [
       "<matplotlib.axes._subplots.AxesSubplot at 0x7f49b4b0d518>"
      ]
     },
     "execution_count": 31,
     "metadata": {},
     "output_type": "execute_result"
    },
    {
     "data": {
      "image/png": "[encoded data removed]",
      "text/plain": [
       "<Figure size 432x288 with 1 Axes>"
      ]
     },
     "metadata": {
      "needs_background": "light"
     },
     "output_type": "display_data"
    }
   ],
   "source": [
    "data_escuela['dependencia'].value_counts().plot.bar()"
   ]
  },
  {
   "cell_type": "code",
   "execution_count": 32,
   "metadata": {},
   "outputs": [
    {
     "data": {
      "text/plain": [
       "<matplotlib.axes._subplots.AxesSubplot at 0x7f49b4a69780>"
      ]
     },
     "execution_count": 32,
     "metadata": {},
     "output_type": "execute_result"
    },
    {
     "data": {
      "image/png": "[encoded data removed]",
      "text/plain": [
       "<Figure size 432x288 with 1 Axes>"
      ]
     },
     "metadata": {
      "needs_background": "light"
     },
     "output_type": "display_data"
    }
   ],
   "source": [
    "data_escuela['provincia_id'].value_counts().plot.bar()"
   ]
  },
  {
   "cell_type": "code",
   "execution_count": 35,
   "metadata": {
    "scrolled": true
   },
   "outputs": [
    {
     "data": {
      "text/html": [
       "<div>\n",
       "<style scoped>\n",
       "    .dataframe tbody tr th:only-of-type {\n",
       "        vertical-align: middle;\n",
       "    }\n",
       "\n",
       "    .dataframe tbody tr th {\n",
       "        vertical-align: top;\n",
       "    }\n",
       "\n",
       "    .dataframe thead th {\n",
       "        text-align: right;\n",
       "    }\n",
       "</style>\n",
       "<table border=\"1\" class=\"dataframe\">\n",
       "  <thead>\n",
       "    <tr style=\"text-align: right;\">\n",
       "      <th></th>\n",
       "      <th>id</th>\n",
       "      <th>name</th>\n",
       "      <th>value</th>\n",
       "      <th>provincia_id</th>\n",
       "      <th>year_id</th>\n",
       "    </tr>\n",
       "  </thead>\n",
       "  <tbody>\n",
       "    <tr>\n",
       "      <th>0</th>\n",
       "      <td>1</td>\n",
       "      <td>inicial+primaria</td>\n",
       "      <td>9901979445</td>\n",
       "      <td>0</td>\n",
       "      <td>2011</td>\n",
       "    </tr>\n",
       "    <tr>\n",
       "      <th>1</th>\n",
       "      <td>2</td>\n",
       "      <td>privada</td>\n",
       "      <td>4088816402</td>\n",
       "      <td>0</td>\n",
       "      <td>2011</td>\n",
       "    </tr>\n",
       "    <tr>\n",
       "      <th>2</th>\n",
       "      <td>3</td>\n",
       "      <td>secundaria</td>\n",
       "      <td>12062368629</td>\n",
       "      <td>0</td>\n",
       "      <td>2011</td>\n",
       "    </tr>\n",
       "    <tr>\n",
       "      <th>3</th>\n",
       "      <td>4</td>\n",
       "      <td>sin_discriminar</td>\n",
       "      <td>4866835425</td>\n",
       "      <td>0</td>\n",
       "      <td>2011</td>\n",
       "    </tr>\n",
       "    <tr>\n",
       "      <th>4</th>\n",
       "      <td>5</td>\n",
       "      <td>snu</td>\n",
       "      <td>927565827</td>\n",
       "      <td>0</td>\n",
       "      <td>2011</td>\n",
       "    </tr>\n",
       "  </tbody>\n",
       "</table>\n",
       "</div>"
      ],
      "text/plain": [
       "   id              name        value  provincia_id  year_id\n",
       "0   1  inicial+primaria   9901979445             0     2011\n",
       "1   2           privada   4088816402             0     2011\n",
       "2   3        secundaria  12062368629             0     2011\n",
       "3   4   sin_discriminar   4866835425             0     2011\n",
       "4   5               snu    927565827             0     2011"
      ]
     },
     "execution_count": 35,
     "metadata": {},
     "output_type": "execute_result"
    }
   ],
   "source": [
    "data_gastos = pd.read_csv('app_gastonivel.csv')\n",
    "data_gastos.head(5)"
   ]
  },
  {
   "cell_type": "code",
   "execution_count": 36,
   "metadata": {},
   "outputs": [],
   "source": [
    "data_gastos_objeto = pd.read_csv('app_gastoobjeto.csv')\n"
   ]
  },
  {
   "cell_type": "code",
   "execution_count": 37,
   "metadata": {},
   "outputs": [
    {
     "data": {
      "text/html": [
       "<div>\n",
       "<style scoped>\n",
       "    .dataframe tbody tr th:only-of-type {\n",
       "        vertical-align: middle;\n",
       "    }\n",
       "\n",
       "    .dataframe tbody tr th {\n",
       "        vertical-align: top;\n",
       "    }\n",
       "\n",
       "    .dataframe thead th {\n",
       "        text-align: right;\n",
       "    }\n",
       "</style>\n",
       "<table border=\"1\" class=\"dataframe\">\n",
       "  <thead>\n",
       "    <tr style=\"text-align: right;\">\n",
       "      <th></th>\n",
       "      <th>id</th>\n",
       "      <th>name</th>\n",
       "      <th>value</th>\n",
       "      <th>provincia_id</th>\n",
       "      <th>year_id</th>\n",
       "    </tr>\n",
       "  </thead>\n",
       "  <tbody>\n",
       "    <tr>\n",
       "      <th>0</th>\n",
       "      <td>1</td>\n",
       "      <td>bienes_y_servicios_no_personales</td>\n",
       "      <td>1.767565e+08</td>\n",
       "      <td>2</td>\n",
       "      <td>2011</td>\n",
       "    </tr>\n",
       "    <tr>\n",
       "      <th>1</th>\n",
       "      <td>2</td>\n",
       "      <td>erogacion_de_capital</td>\n",
       "      <td>2.587709e+08</td>\n",
       "      <td>2</td>\n",
       "      <td>2011</td>\n",
       "    </tr>\n",
       "    <tr>\n",
       "      <th>2</th>\n",
       "      <td>3</td>\n",
       "      <td>personal</td>\n",
       "      <td>2.650768e+09</td>\n",
       "      <td>2</td>\n",
       "      <td>2011</td>\n",
       "    </tr>\n",
       "    <tr>\n",
       "      <th>3</th>\n",
       "      <td>4</td>\n",
       "      <td>transferencias_educacion_privada</td>\n",
       "      <td>1.613470e+08</td>\n",
       "      <td>2</td>\n",
       "      <td>2011</td>\n",
       "    </tr>\n",
       "    <tr>\n",
       "      <th>4</th>\n",
       "      <td>5</td>\n",
       "      <td>transferencias_otras</td>\n",
       "      <td>9.722960e+07</td>\n",
       "      <td>2</td>\n",
       "      <td>2011</td>\n",
       "    </tr>\n",
       "  </tbody>\n",
       "</table>\n",
       "</div>"
      ],
      "text/plain": [
       "   id                              name         value  provincia_id  year_id\n",
       "0   1  bienes_y_servicios_no_personales  1.767565e+08             2     2011\n",
       "1   2              erogacion_de_capital  2.587709e+08             2     2011\n",
       "2   3                          personal  2.650768e+09             2     2011\n",
       "3   4  transferencias_educacion_privada  1.613470e+08             2     2011\n",
       "4   5              transferencias_otras  9.722960e+07             2     2011"
      ]
     },
     "execution_count": 37,
     "metadata": {},
     "output_type": "execute_result"
    }
   ],
   "source": [
    "data_gastos_objeto.head(5)"
   ]
  },
  {
   "cell_type": "code",
   "execution_count": 38,
   "metadata": {},
   "outputs": [
    {
     "data": {
      "text/html": [
       "<div>\n",
       "<style scoped>\n",
       "    .dataframe tbody tr th:only-of-type {\n",
       "        vertical-align: middle;\n",
       "    }\n",
       "\n",
       "    .dataframe tbody tr th {\n",
       "        vertical-align: top;\n",
       "    }\n",
       "\n",
       "    .dataframe thead th {\n",
       "        text-align: right;\n",
       "    }\n",
       "</style>\n",
       "<table border=\"1\" class=\"dataframe\">\n",
       "  <thead>\n",
       "    <tr style=\"text-align: right;\">\n",
       "      <th></th>\n",
       "      <th>id</th>\n",
       "      <th>name</th>\n",
       "      <th>total</th>\n",
       "      <th>cubierto</th>\n",
       "      <th>no_cubierto</th>\n",
       "      <th>escuela_id</th>\n",
       "      <th>nivel_id</th>\n",
       "      <th>year_id</th>\n",
       "    </tr>\n",
       "  </thead>\n",
       "  <tbody>\n",
       "    <tr>\n",
       "      <th>0</th>\n",
       "      <td>1</td>\n",
       "      <td>dictado_de_clases</td>\n",
       "      <td>6</td>\n",
       "      <td>6</td>\n",
       "      <td>0</td>\n",
       "      <td>420000707</td>\n",
       "      <td>1</td>\n",
       "      <td>2011</td>\n",
       "    </tr>\n",
       "    <tr>\n",
       "      <th>1</th>\n",
       "      <td>2</td>\n",
       "      <td>dictado_de_clases</td>\n",
       "      <td>48</td>\n",
       "      <td>48</td>\n",
       "      <td>0</td>\n",
       "      <td>840477414</td>\n",
       "      <td>2</td>\n",
       "      <td>2011</td>\n",
       "    </tr>\n",
       "    <tr>\n",
       "      <th>2</th>\n",
       "      <td>3</td>\n",
       "      <td>dictado_de_clases</td>\n",
       "      <td>2026</td>\n",
       "      <td>2026</td>\n",
       "      <td>0</td>\n",
       "      <td>918751515</td>\n",
       "      <td>3</td>\n",
       "      <td>2011</td>\n",
       "    </tr>\n",
       "    <tr>\n",
       "      <th>3</th>\n",
       "      <td>4</td>\n",
       "      <td>dictado_de_clases</td>\n",
       "      <td>12</td>\n",
       "      <td>12</td>\n",
       "      <td>0</td>\n",
       "      <td>1100466018</td>\n",
       "      <td>1</td>\n",
       "      <td>2011</td>\n",
       "    </tr>\n",
       "    <tr>\n",
       "      <th>4</th>\n",
       "      <td>5</td>\n",
       "      <td>dictado_de_clases</td>\n",
       "      <td>3</td>\n",
       "      <td>3</td>\n",
       "      <td>0</td>\n",
       "      <td>1265777121</td>\n",
       "      <td>2</td>\n",
       "      <td>2011</td>\n",
       "    </tr>\n",
       "  </tbody>\n",
       "</table>\n",
       "</div>"
      ],
      "text/plain": [
       "   id               name  total  cubierto  no_cubierto  escuela_id  nivel_id  \\\n",
       "0   1  dictado_de_clases      6         6            0   420000707         1   \n",
       "1   2  dictado_de_clases     48        48            0   840477414         2   \n",
       "2   3  dictado_de_clases   2026      2026            0   918751515         3   \n",
       "3   4  dictado_de_clases     12        12            0  1100466018         1   \n",
       "4   5  dictado_de_clases      3         3            0  1265777121         2   \n",
       "\n",
       "   year_id  \n",
       "0     2011  \n",
       "1     2011  \n",
       "2     2011  \n",
       "3     2011  \n",
       "4     2011  "
      ]
     },
     "execution_count": 38,
     "metadata": {},
     "output_type": "execute_result"
    }
   ],
   "source": [
    "data_horas = pd.read_csv('app_hora.csv')\n",
    "data_horas.head()"
   ]
  },
  {
   "cell_type": "code",
   "execution_count": 187,
   "metadata": {},
   "outputs": [
    {
     "data": {
      "text/plain": [
       "0       282063\n",
       "3         2007\n",
       "6         1667\n",
       "4         1472\n",
       "2         1215\n",
       "12        1175\n",
       "9          700\n",
       "8          642\n",
       "10         632\n",
       "24         605\n",
       "1          600\n",
       "5          533\n",
       "18         507\n",
       "7          447\n",
       "15         380\n",
       "14         314\n",
       "16         302\n",
       "22         283\n",
       "11         278\n",
       "20         270\n",
       "13         270\n",
       "30         234\n",
       "21         222\n",
       "27         202\n",
       "36         186\n",
       "17         154\n",
       "19         142\n",
       "25         140\n",
       "26         121\n",
       "33         116\n",
       "         ...  \n",
       "325          1\n",
       "323          1\n",
       "322          1\n",
       "320          1\n",
       "575          1\n",
       "316          1\n",
       "315          1\n",
       "354          1\n",
       "616          1\n",
       "141          1\n",
       "379          1\n",
       "652          1\n",
       "651          1\n",
       "394          1\n",
       "391          1\n",
       "645          1\n",
       "389          1\n",
       "900          1\n",
       "387          1\n",
       "888          1\n",
       "617          1\n",
       "375          1\n",
       "886          1\n",
       "374          1\n",
       "1397         1\n",
       "373          1\n",
       "368          1\n",
       "366          1\n",
       "363          1\n",
       "615          1\n",
       "Name: no_cubierto, Length: 340, dtype: int64"
      ]
     },
     "execution_count": 187,
     "metadata": {},
     "output_type": "execute_result"
    }
   ],
   "source": [
    "data_horas['no_cubierto'].value_counts()"
   ]
  },
  {
   "cell_type": "code",
   "execution_count": 39,
   "metadata": {},
   "outputs": [
    {
     "data": {
      "text/html": [
       "<div>\n",
       "<style scoped>\n",
       "    .dataframe tbody tr th:only-of-type {\n",
       "        vertical-align: middle;\n",
       "    }\n",
       "\n",
       "    .dataframe tbody tr th {\n",
       "        vertical-align: top;\n",
       "    }\n",
       "\n",
       "    .dataframe thead th {\n",
       "        text-align: right;\n",
       "    }\n",
       "</style>\n",
       "<table border=\"1\" class=\"dataframe\">\n",
       "  <thead>\n",
       "    <tr style=\"text-align: right;\">\n",
       "      <th></th>\n",
       "      <th>id</th>\n",
       "      <th>name</th>\n",
       "    </tr>\n",
       "  </thead>\n",
       "  <tbody>\n",
       "    <tr>\n",
       "      <th>0</th>\n",
       "      <td>0</td>\n",
       "      <td>Buenos Aires</td>\n",
       "    </tr>\n",
       "    <tr>\n",
       "      <th>1</th>\n",
       "      <td>1</td>\n",
       "      <td>Catamarca</td>\n",
       "    </tr>\n",
       "    <tr>\n",
       "      <th>2</th>\n",
       "      <td>2</td>\n",
       "      <td>Chaco</td>\n",
       "    </tr>\n",
       "    <tr>\n",
       "      <th>3</th>\n",
       "      <td>3</td>\n",
       "      <td>Chubut</td>\n",
       "    </tr>\n",
       "    <tr>\n",
       "      <th>4</th>\n",
       "      <td>4</td>\n",
       "      <td>Ciudad de Buenos Aires</td>\n",
       "    </tr>\n",
       "  </tbody>\n",
       "</table>\n",
       "</div>"
      ],
      "text/plain": [
       "   id                    name\n",
       "0   0            Buenos Aires\n",
       "1   1               Catamarca\n",
       "2   2                   Chaco\n",
       "3   3                  Chubut\n",
       "4   4  Ciudad de Buenos Aires"
      ]
     },
     "execution_count": 39,
     "metadata": {},
     "output_type": "execute_result"
    }
   ],
   "source": [
    "data_provincias = pd.read_csv('app_provincia.csv')\n",
    "data_provincias.head(5)"
   ]
  },
  {
   "cell_type": "code",
   "execution_count": 40,
   "metadata": {},
   "outputs": [],
   "source": [
    "data_provincias.rename(columns = {'name': 'provincia_name'}, inplace = True)"
   ]
  },
  {
   "cell_type": "code",
   "execution_count": 41,
   "metadata": {},
   "outputs": [],
   "source": [
    "data_provincias.rename(columns = {'id': 'provincia_id'}, inplace = True)"
   ]
  },
  {
   "cell_type": "code",
   "execution_count": 42,
   "metadata": {},
   "outputs": [],
   "source": [
    "fulldata_alumnos = data_alumnos.merge(data_escuela, on = 'escuela_id')\n",
    "fulldata_alumno = fulldata_alumnos.merge(data_provincias, on = 'provincia_id')"
   ]
  },
  {
   "cell_type": "code",
   "execution_count": 43,
   "metadata": {},
   "outputs": [],
   "source": [
    "fulldata_provincia2 = data_provincias.merge(data_gastos_objeto, on = 'provincia_id')"
   ]
  },
  {
   "cell_type": "code",
   "execution_count": 44,
   "metadata": {},
   "outputs": [],
   "source": [
    "fulldata_provincia1 = fulldata_provincia2.merge(data_gastos, on = 'provincia_id')"
   ]
  },
  {
   "cell_type": "code",
   "execution_count": 45,
   "metadata": {},
   "outputs": [],
   "source": [
    "fulldata_provincia = fulldata_provincia1.merge(data_salarios, on = 'provincia_id')"
   ]
  },
  {
   "cell_type": "code",
   "execution_count": 46,
   "metadata": {},
   "outputs": [],
   "source": [
    "fulldata_provincia.rename(columns = {'value_y': 'gastos totales'}, inplace = True)"
   ]
  },
  {
   "cell_type": "code",
   "execution_count": 47,
   "metadata": {},
   "outputs": [],
   "source": [
    "fulldata_provincia.rename(columns = {'name_y': 'escolaridad'}, inplace = True)"
   ]
  },
  {
   "cell_type": "code",
   "execution_count": 48,
   "metadata": {},
   "outputs": [],
   "source": [
    "fulldata_provincia.rename(columns = {'name_x': 'rubro'}, inplace = True)"
   ]
  },
  {
   "cell_type": "code",
   "execution_count": 49,
   "metadata": {},
   "outputs": [],
   "source": [
    "fulldata_provincia.rename(columns = {'value_x': 'gasto rubro'}, inplace = True)\n",
    "fulldata_provincia.rename(columns = {'value': 'sueldo'}, inplace = True)\n"
   ]
  },
  {
   "cell_type": "code",
   "execution_count": 50,
   "metadata": {},
   "outputs": [
    {
     "data": {
      "text/html": [
       "<div>\n",
       "<style scoped>\n",
       "    .dataframe tbody tr th:only-of-type {\n",
       "        vertical-align: middle;\n",
       "    }\n",
       "\n",
       "    .dataframe tbody tr th {\n",
       "        vertical-align: top;\n",
       "    }\n",
       "\n",
       "    .dataframe thead th {\n",
       "        text-align: right;\n",
       "    }\n",
       "</style>\n",
       "<table border=\"1\" class=\"dataframe\">\n",
       "  <thead>\n",
       "    <tr style=\"text-align: right;\">\n",
       "      <th></th>\n",
       "      <th>provincia_id</th>\n",
       "      <th>provincia_name</th>\n",
       "      <th>id_x</th>\n",
       "      <th>rubro</th>\n",
       "      <th>gasto rubro</th>\n",
       "      <th>year_id_x</th>\n",
       "      <th>id_y</th>\n",
       "      <th>escolaridad</th>\n",
       "      <th>gastos totales</th>\n",
       "      <th>year_id_y</th>\n",
       "      <th>id</th>\n",
       "      <th>name</th>\n",
       "      <th>sueldo</th>\n",
       "      <th>year_id</th>\n",
       "    </tr>\n",
       "  </thead>\n",
       "  <tbody>\n",
       "    <tr>\n",
       "      <th>0</th>\n",
       "      <td>0</td>\n",
       "      <td>Buenos Aires</td>\n",
       "      <td>211</td>\n",
       "      <td>bienes_y_servicios_no_personales</td>\n",
       "      <td>6.098490e+08</td>\n",
       "      <td>2011</td>\n",
       "      <td>1</td>\n",
       "      <td>inicial+primaria</td>\n",
       "      <td>9901979445</td>\n",
       "      <td>2011</td>\n",
       "      <td>7</td>\n",
       "      <td>maestro_inicial</td>\n",
       "      <td>3368.56</td>\n",
       "      <td>2011</td>\n",
       "    </tr>\n",
       "    <tr>\n",
       "      <th>1</th>\n",
       "      <td>0</td>\n",
       "      <td>Buenos Aires</td>\n",
       "      <td>211</td>\n",
       "      <td>bienes_y_servicios_no_personales</td>\n",
       "      <td>6.098490e+08</td>\n",
       "      <td>2011</td>\n",
       "      <td>1</td>\n",
       "      <td>inicial+primaria</td>\n",
       "      <td>9901979445</td>\n",
       "      <td>2011</td>\n",
       "      <td>8</td>\n",
       "      <td>maestro_inicial</td>\n",
       "      <td>4092.59</td>\n",
       "      <td>2012</td>\n",
       "    </tr>\n",
       "    <tr>\n",
       "      <th>2</th>\n",
       "      <td>0</td>\n",
       "      <td>Buenos Aires</td>\n",
       "      <td>211</td>\n",
       "      <td>bienes_y_servicios_no_personales</td>\n",
       "      <td>6.098490e+08</td>\n",
       "      <td>2011</td>\n",
       "      <td>1</td>\n",
       "      <td>inicial+primaria</td>\n",
       "      <td>9901979445</td>\n",
       "      <td>2011</td>\n",
       "      <td>9</td>\n",
       "      <td>maestro_inicial</td>\n",
       "      <td>4620.98</td>\n",
       "      <td>2013</td>\n",
       "    </tr>\n",
       "    <tr>\n",
       "      <th>3</th>\n",
       "      <td>0</td>\n",
       "      <td>Buenos Aires</td>\n",
       "      <td>211</td>\n",
       "      <td>bienes_y_servicios_no_personales</td>\n",
       "      <td>6.098490e+08</td>\n",
       "      <td>2011</td>\n",
       "      <td>1</td>\n",
       "      <td>inicial+primaria</td>\n",
       "      <td>9901979445</td>\n",
       "      <td>2011</td>\n",
       "      <td>10</td>\n",
       "      <td>maestro_inicial</td>\n",
       "      <td>6196.51</td>\n",
       "      <td>2014</td>\n",
       "    </tr>\n",
       "    <tr>\n",
       "      <th>4</th>\n",
       "      <td>0</td>\n",
       "      <td>Buenos Aires</td>\n",
       "      <td>211</td>\n",
       "      <td>bienes_y_servicios_no_personales</td>\n",
       "      <td>6.098490e+08</td>\n",
       "      <td>2011</td>\n",
       "      <td>1</td>\n",
       "      <td>inicial+primaria</td>\n",
       "      <td>9901979445</td>\n",
       "      <td>2011</td>\n",
       "      <td>11</td>\n",
       "      <td>maestro_inicial</td>\n",
       "      <td>8906.20</td>\n",
       "      <td>2015</td>\n",
       "    </tr>\n",
       "  </tbody>\n",
       "</table>\n",
       "</div>"
      ],
      "text/plain": [
       "   provincia_id provincia_name  id_x                             rubro  \\\n",
       "0             0   Buenos Aires   211  bienes_y_servicios_no_personales   \n",
       "1             0   Buenos Aires   211  bienes_y_servicios_no_personales   \n",
       "2             0   Buenos Aires   211  bienes_y_servicios_no_personales   \n",
       "3             0   Buenos Aires   211  bienes_y_servicios_no_personales   \n",
       "4             0   Buenos Aires   211  bienes_y_servicios_no_personales   \n",
       "\n",
       "    gasto rubro  year_id_x  id_y       escolaridad  gastos totales  year_id_y  \\\n",
       "0  6.098490e+08       2011     1  inicial+primaria      9901979445       2011   \n",
       "1  6.098490e+08       2011     1  inicial+primaria      9901979445       2011   \n",
       "2  6.098490e+08       2011     1  inicial+primaria      9901979445       2011   \n",
       "3  6.098490e+08       2011     1  inicial+primaria      9901979445       2011   \n",
       "4  6.098490e+08       2011     1  inicial+primaria      9901979445       2011   \n",
       "\n",
       "   id             name   sueldo  year_id  \n",
       "0   7  maestro_inicial  3368.56     2011  \n",
       "1   8  maestro_inicial  4092.59     2012  \n",
       "2   9  maestro_inicial  4620.98     2013  \n",
       "3  10  maestro_inicial  6196.51     2014  \n",
       "4  11  maestro_inicial  8906.20     2015  "
      ]
     },
     "execution_count": 50,
     "metadata": {},
     "output_type": "execute_result"
    }
   ],
   "source": [
    "fulldata_provincia.head()"
   ]
  },
  {
   "cell_type": "code",
   "execution_count": 51,
   "metadata": {},
   "outputs": [
    {
     "data": {
      "text/html": [
       "<div>\n",
       "<style scoped>\n",
       "    .dataframe tbody tr th:only-of-type {\n",
       "        vertical-align: middle;\n",
       "    }\n",
       "\n",
       "    .dataframe tbody tr th {\n",
       "        vertical-align: top;\n",
       "    }\n",
       "\n",
       "    .dataframe thead th {\n",
       "        text-align: right;\n",
       "    }\n",
       "</style>\n",
       "<table border=\"1\" class=\"dataframe\">\n",
       "  <thead>\n",
       "    <tr style=\"text-align: right;\">\n",
       "      <th></th>\n",
       "      <th>id</th>\n",
       "      <th>sexo</th>\n",
       "      <th>indice_socioeconomico</th>\n",
       "      <th>nivel_desemp_matematica</th>\n",
       "      <th>nivel_desemp_lengua</th>\n",
       "      <th>nivel_desemp_ciencias_sociales</th>\n",
       "      <th>nivel_desemp_ciencias_naturales</th>\n",
       "      <th>ponderador_lengua</th>\n",
       "      <th>ponderador_matematica</th>\n",
       "      <th>ponderador_ciencias_naturales</th>\n",
       "      <th>...</th>\n",
       "      <th>icse_cat</th>\n",
       "      <th>indice_socioeconomico_medio</th>\n",
       "      <th>indice_socioeconomico_medio_cat</th>\n",
       "      <th>tecnica</th>\n",
       "      <th>tiene_internet_y</th>\n",
       "      <th>subvencion</th>\n",
       "      <th>dependencia</th>\n",
       "      <th>departamento_id</th>\n",
       "      <th>provincia_id</th>\n",
       "      <th>provincia_name</th>\n",
       "    </tr>\n",
       "  </thead>\n",
       "  <tbody>\n",
       "    <tr>\n",
       "      <th>0</th>\n",
       "      <td>1</td>\n",
       "      <td>nc</td>\n",
       "      <td>NaN</td>\n",
       "      <td>satisfactorio</td>\n",
       "      <td>nc</td>\n",
       "      <td>satisfactorio</td>\n",
       "      <td>satisfactorio</td>\n",
       "      <td>-1.00000</td>\n",
       "      <td>35.920963</td>\n",
       "      <td>42.752556</td>\n",
       "      <td>...</td>\n",
       "      <td>bajo_y_medio</td>\n",
       "      <td>-1.0</td>\n",
       "      <td>NaN</td>\n",
       "      <td>f</td>\n",
       "      <td>t</td>\n",
       "      <td>No corresponde</td>\n",
       "      <td>provincial</td>\n",
       "      <td>87.0</td>\n",
       "      <td>4</td>\n",
       "      <td>Ciudad de Buenos Aires</td>\n",
       "    </tr>\n",
       "    <tr>\n",
       "      <th>1</th>\n",
       "      <td>505</td>\n",
       "      <td>nc</td>\n",
       "      <td>NaN</td>\n",
       "      <td>nc</td>\n",
       "      <td>avanzado</td>\n",
       "      <td>avanzado</td>\n",
       "      <td>satisfactorio</td>\n",
       "      <td>33.28981</td>\n",
       "      <td>-1.000000</td>\n",
       "      <td>42.752556</td>\n",
       "      <td>...</td>\n",
       "      <td>bajo_y_medio</td>\n",
       "      <td>-1.0</td>\n",
       "      <td>NaN</td>\n",
       "      <td>f</td>\n",
       "      <td>t</td>\n",
       "      <td>No corresponde</td>\n",
       "      <td>provincial</td>\n",
       "      <td>87.0</td>\n",
       "      <td>4</td>\n",
       "      <td>Ciudad de Buenos Aires</td>\n",
       "    </tr>\n",
       "    <tr>\n",
       "      <th>2</th>\n",
       "      <td>1008</td>\n",
       "      <td>nc</td>\n",
       "      <td>NaN</td>\n",
       "      <td>nc</td>\n",
       "      <td>satisfactorio</td>\n",
       "      <td>basico</td>\n",
       "      <td>satisfactorio</td>\n",
       "      <td>33.28981</td>\n",
       "      <td>-1.000000</td>\n",
       "      <td>42.752556</td>\n",
       "      <td>...</td>\n",
       "      <td>bajo_y_medio</td>\n",
       "      <td>-1.0</td>\n",
       "      <td>NaN</td>\n",
       "      <td>f</td>\n",
       "      <td>t</td>\n",
       "      <td>No corresponde</td>\n",
       "      <td>provincial</td>\n",
       "      <td>87.0</td>\n",
       "      <td>4</td>\n",
       "      <td>Ciudad de Buenos Aires</td>\n",
       "    </tr>\n",
       "    <tr>\n",
       "      <th>3</th>\n",
       "      <td>1511</td>\n",
       "      <td>nc</td>\n",
       "      <td>NaN</td>\n",
       "      <td>basico</td>\n",
       "      <td>nc</td>\n",
       "      <td>nc</td>\n",
       "      <td>basico</td>\n",
       "      <td>-1.00000</td>\n",
       "      <td>35.920963</td>\n",
       "      <td>42.752556</td>\n",
       "      <td>...</td>\n",
       "      <td>bajo_y_medio</td>\n",
       "      <td>-1.0</td>\n",
       "      <td>NaN</td>\n",
       "      <td>f</td>\n",
       "      <td>t</td>\n",
       "      <td>No corresponde</td>\n",
       "      <td>provincial</td>\n",
       "      <td>87.0</td>\n",
       "      <td>4</td>\n",
       "      <td>Ciudad de Buenos Aires</td>\n",
       "    </tr>\n",
       "    <tr>\n",
       "      <th>4</th>\n",
       "      <td>2014</td>\n",
       "      <td>nc</td>\n",
       "      <td>NaN</td>\n",
       "      <td>por_debajo_del_basico</td>\n",
       "      <td>por_debajo_del_basico</td>\n",
       "      <td>basico</td>\n",
       "      <td>por_debajo_del_basico</td>\n",
       "      <td>33.28981</td>\n",
       "      <td>35.920963</td>\n",
       "      <td>42.752556</td>\n",
       "      <td>...</td>\n",
       "      <td>bajo_y_medio</td>\n",
       "      <td>-1.0</td>\n",
       "      <td>NaN</td>\n",
       "      <td>f</td>\n",
       "      <td>t</td>\n",
       "      <td>No corresponde</td>\n",
       "      <td>provincial</td>\n",
       "      <td>87.0</td>\n",
       "      <td>4</td>\n",
       "      <td>Ciudad de Buenos Aires</td>\n",
       "    </tr>\n",
       "  </tbody>\n",
       "</table>\n",
       "<p>5 rows × 38 columns</p>\n",
       "</div>"
      ],
      "text/plain": [
       "     id sexo indice_socioeconomico nivel_desemp_matematica  \\\n",
       "0     1   nc                   NaN           satisfactorio   \n",
       "1   505   nc                   NaN                      nc   \n",
       "2  1008   nc                   NaN                      nc   \n",
       "3  1511   nc                   NaN                  basico   \n",
       "4  2014   nc                   NaN   por_debajo_del_basico   \n",
       "\n",
       "     nivel_desemp_lengua nivel_desemp_ciencias_sociales  \\\n",
       "0                     nc                  satisfactorio   \n",
       "1               avanzado                       avanzado   \n",
       "2          satisfactorio                         basico   \n",
       "3                     nc                             nc   \n",
       "4  por_debajo_del_basico                         basico   \n",
       "\n",
       "  nivel_desemp_ciencias_naturales  ponderador_lengua  ponderador_matematica  \\\n",
       "0                   satisfactorio           -1.00000              35.920963   \n",
       "1                   satisfactorio           33.28981              -1.000000   \n",
       "2                   satisfactorio           33.28981              -1.000000   \n",
       "3                          basico           -1.00000              35.920963   \n",
       "4           por_debajo_del_basico           33.28981              35.920963   \n",
       "\n",
       "   ponderador_ciencias_naturales  ...      icse_cat  \\\n",
       "0                      42.752556  ...  bajo_y_medio   \n",
       "1                      42.752556  ...  bajo_y_medio   \n",
       "2                      42.752556  ...  bajo_y_medio   \n",
       "3                      42.752556  ...  bajo_y_medio   \n",
       "4                      42.752556  ...  bajo_y_medio   \n",
       "\n",
       "  indice_socioeconomico_medio indice_socioeconomico_medio_cat tecnica  \\\n",
       "0                        -1.0                             NaN       f   \n",
       "1                        -1.0                             NaN       f   \n",
       "2                        -1.0                             NaN       f   \n",
       "3                        -1.0                             NaN       f   \n",
       "4                        -1.0                             NaN       f   \n",
       "\n",
       "  tiene_internet_y      subvencion dependencia departamento_id provincia_id  \\\n",
       "0                t  No corresponde  provincial            87.0            4   \n",
       "1                t  No corresponde  provincial            87.0            4   \n",
       "2                t  No corresponde  provincial            87.0            4   \n",
       "3                t  No corresponde  provincial            87.0            4   \n",
       "4                t  No corresponde  provincial            87.0            4   \n",
       "\n",
       "           provincia_name  \n",
       "0  Ciudad de Buenos Aires  \n",
       "1  Ciudad de Buenos Aires  \n",
       "2  Ciudad de Buenos Aires  \n",
       "3  Ciudad de Buenos Aires  \n",
       "4  Ciudad de Buenos Aires  \n",
       "\n",
       "[5 rows x 38 columns]"
      ]
     },
     "execution_count": 51,
     "metadata": {},
     "output_type": "execute_result"
    }
   ],
   "source": [
    "fulldata_alumno.head()"
   ]
  },
  {
   "cell_type": "code",
   "execution_count": 52,
   "metadata": {},
   "outputs": [],
   "source": [
    "data_filtrado=fulldata_alumno[fulldata_alumno['year_id'] > 2013]"
   ]
  },
  {
   "cell_type": "code",
   "execution_count": 53,
   "metadata": {},
   "outputs": [
    {
     "name": "stderr",
     "output_type": "stream",
     "text": [
      "/home/gr/anaconda3/envs/ent7/lib/python3.6/site-packages/pandas/core/frame.py:3997: SettingWithCopyWarning: \n",
      "A value is trying to be set on a copy of a slice from a DataFrame\n",
      "\n",
      "See the caveats in the documentation: https://pandas.pydata.org/pandas-docs/stable/user_guide/indexing.html#returning-a-view-versus-a-copy\n",
      "  errors=errors,\n"
     ]
    }
   ],
   "source": [
    "data_filtrado.drop(columns = ['id','nivel_desemp_lengua',\n",
    " 'nivel_desemp_ciencias_sociales','provincia_name', 'nivel_desemp_ciencias_sociales','provincia_name'\n",
    ",'nivel_desemp_ciencias_naturales','ponderador_lengua','ponderador_ciencias_naturales',\n",
    " 'ponderador_ciencias_sociales','year_id','escuela_id',\n",
    "'departamento_id', 'icse','indice_socioeconomico_medio'], inplace=True)"
   ]
  },
  {
   "cell_type": "code",
   "execution_count": 54,
   "metadata": {},
   "outputs": [
    {
     "name": "stdout",
     "output_type": "stream",
     "text": [
      "nivel_desemp_matematica 539886\n",
      "ponderador_matematica 109030\n",
      "icse_cat 492236\n",
      "indice_socioeconomico_medio_cat 11036\n",
      "tiene_internet_y 75026\n",
      "subvencion 150\n",
      "dependencia 150\n"
     ]
    }
   ],
   "source": [
    "nullColumns = []    #Lista que contendrá las columnas con valores Nulos\n",
    "for column in data_filtrado.columns:\n",
    "    if data_filtrado[column].isnull().sum() > 0:\n",
    "        print(column, data_filtrado[column].isnull().sum())\n",
    "        nullColumns.append(column)"
   ]
  },
  {
   "cell_type": "code",
   "execution_count": 55,
   "metadata": {},
   "outputs": [
    {
     "name": "stderr",
     "output_type": "stream",
     "text": [
      "/home/gr/anaconda3/envs/ent7/lib/python3.6/site-packages/pandas/core/indexing.py:966: SettingWithCopyWarning: \n",
      "A value is trying to be set on a copy of a slice from a DataFrame.\n",
      "Try using .loc[row_indexer,col_indexer] = value instead\n",
      "\n",
      "See the caveats in the documentation: https://pandas.pydata.org/pandas-docs/stable/user_guide/indexing.html#returning-a-view-versus-a-copy\n",
      "  self.obj[item] = s\n"
     ]
    }
   ],
   "source": [
    "data_filtrado.loc[data_filtrado['indice_socioeconomico_medio_cat'].isnull(), 'indice_socioeconomico_medio_cat'] = 'LTE'\n",
    "data_filtrado.loc[data_filtrado['tiene_internet_y'].isnull(), 'tiene_internet_y'] = 't'\n",
    "data_filtrado.loc[data_filtrado['subvencion'].isnull(), 'subvencion'] = 'No corresponde'\n",
    "data_filtrado.loc[data_filtrado['dependencia'].isnull(), 'dependencia'] = 'No provincial'"
   ]
  },
  {
   "cell_type": "code",
   "execution_count": 56,
   "metadata": {},
   "outputs": [],
   "source": [
    "data_filtrado.loc[data_filtrado['tiene_celular']== 'nc', 'tiene_celular'] = 'si'\n",
    "data_filtrado.loc[data_filtrado['tiene_internet_x']== 'nc', 'tiene_internet_x'] = 'si'\n",
    "data_filtrado.loc[data_filtrado['repeticion_primaria']== 'nc', 'repeticion_primaria'] = 'no'"
   ]
  },
  {
   "cell_type": "code",
   "execution_count": 58,
   "metadata": {},
   "outputs": [
    {
     "data": {
      "text/plain": [
       "nc    709218\n",
       "si    439973\n",
       "no    313979\n",
       "Name: tiene_cable, dtype: int64"
      ]
     },
     "execution_count": 58,
     "metadata": {},
     "output_type": "execute_result"
    }
   ],
   "source": [
    "#dado el elevado numero de valores nc, eliminamos algunas columnas\n",
    "data_filtrado['repeticion_secundaria'].value_counts()\n",
    "data_filtrado['tiene_notebook'].value_counts()\n",
    "data_filtrado['tiene_pc'].value_counts()\n",
    "data_filtrado['tiene_tablet'].value_counts()\n",
    "data_filtrado['tiene_smartphone'].value_counts()\n",
    "data_filtrado['tiene_consola'].value_counts()\n",
    "data_filtrado['tiene_smarttv'].value_counts()\n",
    "data_filtrado['tiene_cable'].value_counts()"
   ]
  },
  {
   "cell_type": "code",
   "execution_count": 59,
   "metadata": {},
   "outputs": [],
   "source": [
    "data_filtrado1 = pd.get_dummies(data_filtrado['provincia_id'], prefix='provincia_id') #Creamos columnas con las subcategorias de 'DEVICE_VENDOR_NAME' y guardamos en nuevo dataframe\n",
    "data_filtrado = pd.concat([data_filtrado, data_filtrado1], axis=1)                          #Concatenamos los dos dataframes\n",
    "del data_filtrado1 \n",
    "data_filtrado1 = pd.get_dummies(data_filtrado['dependencia'], prefix='dependencia') #Creamos columnas con las subcategorias de 'DEVICE_VENDOR_NAME' y guardamos en nuevo dataframe\n",
    "data_filtrado = pd.concat([data_filtrado, data_filtrado1], axis=1)                          #Concatenamos los dos dataframes\n",
    "del data_filtrado1 \n",
    "data_filtrado1 = pd.get_dummies(data_filtrado['subvencion'], prefix='subvencion') #Creamos columnas con las subcategorias de 'DEVICE_VENDOR_NAME' y guardamos en nuevo dataframe\n",
    "data_filtrado = pd.concat([data_filtrado, data_filtrado1], axis=1)                          #Concatenamos los dos dataframes\n",
    "del data_filtrado1 \n",
    "data_filtrado1 = pd.get_dummies(data_filtrado['tiene_internet_y'], prefix='tiene_internet_y') #Creamos columnas con las subcategorias de 'DEVICE_VENDOR_NAME' y guardamos en nuevo dataframe\n",
    "data_filtrado = pd.concat([data_filtrado, data_filtrado1], axis=1)                          #Concatenamos los dos dataframes\n",
    "del data_filtrado1 \n",
    "data_filtrado1 = pd.get_dummies(data_filtrado['tecnica'], prefix='tecnica') #Creamos columnas con las subcategorias de 'DEVICE_VENDOR_NAME' y guardamos en nuevo dataframe\n",
    "data_filtrado = pd.concat([data_filtrado, data_filtrado1], axis=1)                          #Concatenamos los dos dataframes\n",
    "del data_filtrado1 \n",
    "data_filtrado1 = pd.get_dummies(data_filtrado['indice_socioeconomico_medio_cat'], prefix='indice_socioeconomico_medio_cat') #Creamos columnas con las subcategorias de 'DEVICE_VENDOR_NAME' y guardamos en nuevo dataframe\n",
    "data_filtrado = pd.concat([data_filtrado, data_filtrado1], axis=1)                          #Concatenamos los dos dataframes\n",
    "del data_filtrado1 \n",
    "data_filtrado1 = pd.get_dummies(data_filtrado['icse_cat'], prefix='icse_cat') #Creamos columnas con las subcategorias de 'DEVICE_VENDOR_NAME' y guardamos en nuevo dataframe\n",
    "data_filtrado = pd.concat([data_filtrado, data_filtrado1], axis=1)                          #Concatenamos los dos dataframes\n",
    "del data_filtrado1 \n",
    "data_filtrado1 = pd.get_dummies(data_filtrado['gestion'], prefix='gestion') #Creamos columnas con las subcategorias de 'DEVICE_VENDOR_NAME' y guardamos en nuevo dataframe\n",
    "data_filtrado = pd.concat([data_filtrado, data_filtrado1], axis=1)                          #Concatenamos los dos dataframes\n",
    "del data_filtrado1 \n",
    "data_filtrado1 = pd.get_dummies(data_filtrado['ambito'], prefix='ambito') #Creamos columnas con las subcategorias de 'DEVICE_VENDOR_NAME' y guardamos en nuevo dataframe\n",
    "data_filtrado = pd.concat([data_filtrado, data_filtrado1], axis=1)                          #Concatenamos los dos dataframes\n",
    "del data_filtrado1 \n",
    "data_filtrado1 = pd.get_dummies(data_filtrado['nivel_id'], prefix='nivel_id') #Creamos columnas con las subcategorias de 'DEVICE_VENDOR_NAME' y guardamos en nuevo dataframe\n",
    "data_filtrado = pd.concat([data_filtrado, data_filtrado1], axis=1)                          #Concatenamos los dos dataframes\n",
    "del data_filtrado1 \n",
    "data_filtrado1 = pd.get_dummies(data_filtrado['repeticion_primaria'], prefix='repeticion_primaria') #Creamos columnas con las subcategorias de 'DEVICE_VENDOR_NAME' y guardamos en nuevo dataframe\n",
    "data_filtrado = pd.concat([data_filtrado, data_filtrado1], axis=1)                          #Concatenamos los dos dataframes\n",
    "del data_filtrado1 \n",
    "data_filtrado1 = pd.get_dummies(data_filtrado['tiene_internet_x'], prefix='tiene_internet_x') #Creamos columnas con las subcategorias de 'DEVICE_VENDOR_NAME' y guardamos en nuevo dataframe\n",
    "data_filtrado = pd.concat([data_filtrado, data_filtrado1], axis=1)                          #Concatenamos los dos dataframes\n",
    "del data_filtrado1  \n",
    "data_filtrado1 = pd.get_dummies(data_filtrado['tiene_celular'], prefix='tiene_celular') #Creamos columnas con las subcategorias de 'DEVICE_VENDOR_NAME' y guardamos en nuevo dataframe\n",
    "data_filtrado = pd.concat([data_filtrado, data_filtrado1], axis=1)                          #Concatenamos los dos dataframes\n",
    "del data_filtrado1  \n",
    "data_filtrado1 = pd.get_dummies(data_filtrado['sexo'], prefix='sex') #Creamos columnas con las subcategorias de 'DEVICE_VENDOR_NAME' y guardamos en nuevo dataframe\n",
    "data_filtrado = pd.concat([data_filtrado, data_filtrado1], axis=1)                          #Concatenamos los dos dataframes\n",
    "del data_filtrado1  \n"
   ]
  },
  {
   "cell_type": "code",
   "execution_count": 60,
   "metadata": {},
   "outputs": [],
   "source": [
    "data_filtrado.drop(columns = ['sexo',\n",
    " 'indice_socioeconomico',\n",
    " 'tiene_notebook',\n",
    " 'tiene_pc',\n",
    " 'tiene_tablet',\n",
    " 'tiene_celular',\n",
    " 'tiene_smartphone',\n",
    " 'tiene_consola',\n",
    " 'tiene_smarttv',\n",
    " 'tiene_cable',\n",
    " 'tiene_internet_x',\n",
    " 'repeticion_primaria',\n",
    " 'repeticion_secundaria',\n",
    " 'nivel_id',\n",
    " 'ambito',\n",
    " 'gestion',\n",
    " 'icse_cat',\n",
    " 'indice_socioeconomico_medio_cat',\n",
    " 'tecnica',\n",
    " 'tiene_internet_y',\n",
    " 'subvencion',\n",
    " 'dependencia',\n",
    " 'provincia_id'], inplace=True)"
   ]
  },
  {
   "cell_type": "code",
   "execution_count": 61,
   "metadata": {},
   "outputs": [
    {
     "data": {
      "text/plain": [
       "(1463170, 69)"
      ]
     },
     "execution_count": 61,
     "metadata": {},
     "output_type": "execute_result"
    }
   ],
   "source": [
    "data_filtrado.shape"
   ]
  },
  {
   "cell_type": "code",
   "execution_count": 66,
   "metadata": {},
   "outputs": [],
   "source": [
    "data=data_filtrado.sample(frac=0.05) #trabajamos con un 20% de datos"
   ]
  },
  {
   "cell_type": "code",
   "execution_count": 67,
   "metadata": {},
   "outputs": [
    {
     "data": {
      "text/html": [
       "<div>\n",
       "<style scoped>\n",
       "    .dataframe tbody tr th:only-of-type {\n",
       "        vertical-align: middle;\n",
       "    }\n",
       "\n",
       "    .dataframe tbody tr th {\n",
       "        vertical-align: top;\n",
       "    }\n",
       "\n",
       "    .dataframe thead th {\n",
       "        text-align: right;\n",
       "    }\n",
       "</style>\n",
       "<table border=\"1\" class=\"dataframe\">\n",
       "  <thead>\n",
       "    <tr style=\"text-align: right;\">\n",
       "      <th></th>\n",
       "      <th>ponderador_matematica</th>\n",
       "      <th>provincia_id_0</th>\n",
       "      <th>provincia_id_1</th>\n",
       "      <th>provincia_id_2</th>\n",
       "      <th>provincia_id_3</th>\n",
       "      <th>provincia_id_4</th>\n",
       "      <th>provincia_id_5</th>\n",
       "      <th>provincia_id_6</th>\n",
       "      <th>provincia_id_7</th>\n",
       "      <th>provincia_id_8</th>\n",
       "      <th>...</th>\n",
       "      <th>repeticion_primaria_no</th>\n",
       "      <th>repeticion_primaria_tres_veces_o_mas</th>\n",
       "      <th>repeticion_primaria_una_vez</th>\n",
       "      <th>tiene_internet_x_no</th>\n",
       "      <th>tiene_internet_x_si</th>\n",
       "      <th>tiene_celular_no</th>\n",
       "      <th>tiene_celular_si</th>\n",
       "      <th>sex_f</th>\n",
       "      <th>sex_m</th>\n",
       "      <th>sex_nc</th>\n",
       "    </tr>\n",
       "  </thead>\n",
       "  <tbody>\n",
       "    <tr>\n",
       "      <th>ponderador_matematica</th>\n",
       "      <td>1.000000</td>\n",
       "      <td>0.010965</td>\n",
       "      <td>-0.002459</td>\n",
       "      <td>-0.005254</td>\n",
       "      <td>0.004625</td>\n",
       "      <td>0.052001</td>\n",
       "      <td>-0.013280</td>\n",
       "      <td>-0.017506</td>\n",
       "      <td>0.000946</td>\n",
       "      <td>0.009337</td>\n",
       "      <td>...</td>\n",
       "      <td>0.063403</td>\n",
       "      <td>-0.014408</td>\n",
       "      <td>-0.054545</td>\n",
       "      <td>0.324673</td>\n",
       "      <td>-0.324673</td>\n",
       "      <td>0.219443</td>\n",
       "      <td>-0.219443</td>\n",
       "      <td>-0.186434</td>\n",
       "      <td>-0.194717</td>\n",
       "      <td>0.408144</td>\n",
       "    </tr>\n",
       "    <tr>\n",
       "      <th>provincia_id_0</th>\n",
       "      <td>0.010965</td>\n",
       "      <td>1.000000</td>\n",
       "      <td>-0.081451</td>\n",
       "      <td>-0.130743</td>\n",
       "      <td>-0.087923</td>\n",
       "      <td>-0.202178</td>\n",
       "      <td>-0.130968</td>\n",
       "      <td>-0.237362</td>\n",
       "      <td>-0.133637</td>\n",
       "      <td>-0.098683</td>\n",
       "      <td>...</td>\n",
       "      <td>0.047962</td>\n",
       "      <td>-0.020058</td>\n",
       "      <td>-0.035229</td>\n",
       "      <td>-0.091104</td>\n",
       "      <td>0.091104</td>\n",
       "      <td>-0.001740</td>\n",
       "      <td>0.001740</td>\n",
       "      <td>0.012603</td>\n",
       "      <td>-0.002007</td>\n",
       "      <td>-0.011003</td>\n",
       "    </tr>\n",
       "    <tr>\n",
       "      <th>provincia_id_1</th>\n",
       "      <td>-0.002459</td>\n",
       "      <td>-0.081451</td>\n",
       "      <td>1.000000</td>\n",
       "      <td>-0.018375</td>\n",
       "      <td>-0.012357</td>\n",
       "      <td>-0.028415</td>\n",
       "      <td>-0.018407</td>\n",
       "      <td>-0.033360</td>\n",
       "      <td>-0.018782</td>\n",
       "      <td>-0.013869</td>\n",
       "      <td>...</td>\n",
       "      <td>0.003976</td>\n",
       "      <td>0.009426</td>\n",
       "      <td>-0.006983</td>\n",
       "      <td>0.025202</td>\n",
       "      <td>-0.025202</td>\n",
       "      <td>-0.004629</td>\n",
       "      <td>0.004629</td>\n",
       "      <td>-0.009411</td>\n",
       "      <td>-0.007096</td>\n",
       "      <td>0.017039</td>\n",
       "    </tr>\n",
       "    <tr>\n",
       "      <th>provincia_id_2</th>\n",
       "      <td>-0.005254</td>\n",
       "      <td>-0.130743</td>\n",
       "      <td>-0.018375</td>\n",
       "      <td>1.000000</td>\n",
       "      <td>-0.019835</td>\n",
       "      <td>-0.045611</td>\n",
       "      <td>-0.029546</td>\n",
       "      <td>-0.053548</td>\n",
       "      <td>-0.030148</td>\n",
       "      <td>-0.022263</td>\n",
       "      <td>...</td>\n",
       "      <td>-0.017453</td>\n",
       "      <td>0.000633</td>\n",
       "      <td>0.017845</td>\n",
       "      <td>0.035269</td>\n",
       "      <td>-0.035269</td>\n",
       "      <td>-0.007147</td>\n",
       "      <td>0.007147</td>\n",
       "      <td>0.011270</td>\n",
       "      <td>-0.001268</td>\n",
       "      <td>-0.010380</td>\n",
       "    </tr>\n",
       "    <tr>\n",
       "      <th>provincia_id_3</th>\n",
       "      <td>0.004625</td>\n",
       "      <td>-0.087923</td>\n",
       "      <td>-0.012357</td>\n",
       "      <td>-0.019835</td>\n",
       "      <td>1.000000</td>\n",
       "      <td>-0.030673</td>\n",
       "      <td>-0.019869</td>\n",
       "      <td>-0.036011</td>\n",
       "      <td>-0.020274</td>\n",
       "      <td>-0.014971</td>\n",
       "      <td>...</td>\n",
       "      <td>-0.001029</td>\n",
       "      <td>-0.005488</td>\n",
       "      <td>0.005003</td>\n",
       "      <td>-0.004415</td>\n",
       "      <td>0.004415</td>\n",
       "      <td>-0.001821</td>\n",
       "      <td>0.001821</td>\n",
       "      <td>-0.000642</td>\n",
       "      <td>-0.001220</td>\n",
       "      <td>0.001919</td>\n",
       "    </tr>\n",
       "    <tr>\n",
       "      <th>...</th>\n",
       "      <td>...</td>\n",
       "      <td>...</td>\n",
       "      <td>...</td>\n",
       "      <td>...</td>\n",
       "      <td>...</td>\n",
       "      <td>...</td>\n",
       "      <td>...</td>\n",
       "      <td>...</td>\n",
       "      <td>...</td>\n",
       "      <td>...</td>\n",
       "      <td>...</td>\n",
       "      <td>...</td>\n",
       "      <td>...</td>\n",
       "      <td>...</td>\n",
       "      <td>...</td>\n",
       "      <td>...</td>\n",
       "      <td>...</td>\n",
       "      <td>...</td>\n",
       "      <td>...</td>\n",
       "      <td>...</td>\n",
       "      <td>...</td>\n",
       "    </tr>\n",
       "    <tr>\n",
       "      <th>tiene_celular_no</th>\n",
       "      <td>0.219443</td>\n",
       "      <td>-0.001740</td>\n",
       "      <td>-0.004629</td>\n",
       "      <td>-0.007147</td>\n",
       "      <td>-0.001821</td>\n",
       "      <td>-0.006970</td>\n",
       "      <td>0.002994</td>\n",
       "      <td>0.004690</td>\n",
       "      <td>-0.009012</td>\n",
       "      <td>0.017492</td>\n",
       "      <td>...</td>\n",
       "      <td>-0.016952</td>\n",
       "      <td>0.013072</td>\n",
       "      <td>0.013055</td>\n",
       "      <td>0.280696</td>\n",
       "      <td>-0.280696</td>\n",
       "      <td>1.000000</td>\n",
       "      <td>-1.000000</td>\n",
       "      <td>-0.053396</td>\n",
       "      <td>-0.020408</td>\n",
       "      <td>0.076298</td>\n",
       "    </tr>\n",
       "    <tr>\n",
       "      <th>tiene_celular_si</th>\n",
       "      <td>-0.219443</td>\n",
       "      <td>0.001740</td>\n",
       "      <td>0.004629</td>\n",
       "      <td>0.007147</td>\n",
       "      <td>0.001821</td>\n",
       "      <td>0.006970</td>\n",
       "      <td>-0.002994</td>\n",
       "      <td>-0.004690</td>\n",
       "      <td>0.009012</td>\n",
       "      <td>-0.017492</td>\n",
       "      <td>...</td>\n",
       "      <td>0.016952</td>\n",
       "      <td>-0.013072</td>\n",
       "      <td>-0.013055</td>\n",
       "      <td>-0.280696</td>\n",
       "      <td>0.280696</td>\n",
       "      <td>-1.000000</td>\n",
       "      <td>1.000000</td>\n",
       "      <td>0.053396</td>\n",
       "      <td>0.020408</td>\n",
       "      <td>-0.076298</td>\n",
       "    </tr>\n",
       "    <tr>\n",
       "      <th>sex_f</th>\n",
       "      <td>-0.186434</td>\n",
       "      <td>0.012603</td>\n",
       "      <td>-0.009411</td>\n",
       "      <td>0.011270</td>\n",
       "      <td>-0.000642</td>\n",
       "      <td>-0.011129</td>\n",
       "      <td>0.000391</td>\n",
       "      <td>0.001778</td>\n",
       "      <td>-0.004772</td>\n",
       "      <td>-0.006629</td>\n",
       "      <td>...</td>\n",
       "      <td>-0.016655</td>\n",
       "      <td>-0.005410</td>\n",
       "      <td>0.020504</td>\n",
       "      <td>-0.051694</td>\n",
       "      <td>0.051694</td>\n",
       "      <td>-0.053396</td>\n",
       "      <td>0.053396</td>\n",
       "      <td>1.000000</td>\n",
       "      <td>-0.530165</td>\n",
       "      <td>-0.492300</td>\n",
       "    </tr>\n",
       "    <tr>\n",
       "      <th>sex_m</th>\n",
       "      <td>-0.194717</td>\n",
       "      <td>-0.002007</td>\n",
       "      <td>-0.007096</td>\n",
       "      <td>-0.001268</td>\n",
       "      <td>-0.001220</td>\n",
       "      <td>-0.012194</td>\n",
       "      <td>0.003506</td>\n",
       "      <td>0.009567</td>\n",
       "      <td>-0.004274</td>\n",
       "      <td>0.005819</td>\n",
       "      <td>...</td>\n",
       "      <td>-0.116844</td>\n",
       "      <td>0.028241</td>\n",
       "      <td>0.101386</td>\n",
       "      <td>-0.051473</td>\n",
       "      <td>0.051473</td>\n",
       "      <td>-0.020408</td>\n",
       "      <td>0.020408</td>\n",
       "      <td>-0.530165</td>\n",
       "      <td>1.000000</td>\n",
       "      <td>-0.477028</td>\n",
       "    </tr>\n",
       "    <tr>\n",
       "      <th>sex_nc</th>\n",
       "      <td>0.408144</td>\n",
       "      <td>-0.011003</td>\n",
       "      <td>0.017039</td>\n",
       "      <td>-0.010380</td>\n",
       "      <td>0.001919</td>\n",
       "      <td>0.024054</td>\n",
       "      <td>-0.004004</td>\n",
       "      <td>-0.011664</td>\n",
       "      <td>0.009334</td>\n",
       "      <td>0.000898</td>\n",
       "      <td>...</td>\n",
       "      <td>0.137213</td>\n",
       "      <td>-0.023384</td>\n",
       "      <td>-0.125334</td>\n",
       "      <td>0.106424</td>\n",
       "      <td>-0.106424</td>\n",
       "      <td>0.076298</td>\n",
       "      <td>-0.076298</td>\n",
       "      <td>-0.492300</td>\n",
       "      <td>-0.477028</td>\n",
       "      <td>1.000000</td>\n",
       "    </tr>\n",
       "  </tbody>\n",
       "</table>\n",
       "<p>68 rows × 68 columns</p>\n",
       "</div>"
      ],
      "text/plain": [
       "                       ponderador_matematica  provincia_id_0  provincia_id_1  \\\n",
       "ponderador_matematica               1.000000        0.010965       -0.002459   \n",
       "provincia_id_0                      0.010965        1.000000       -0.081451   \n",
       "provincia_id_1                     -0.002459       -0.081451        1.000000   \n",
       "provincia_id_2                     -0.005254       -0.130743       -0.018375   \n",
       "provincia_id_3                      0.004625       -0.087923       -0.012357   \n",
       "...                                      ...             ...             ...   \n",
       "tiene_celular_no                    0.219443       -0.001740       -0.004629   \n",
       "tiene_celular_si                   -0.219443        0.001740        0.004629   \n",
       "sex_f                              -0.186434        0.012603       -0.009411   \n",
       "sex_m                              -0.194717       -0.002007       -0.007096   \n",
       "sex_nc                              0.408144       -0.011003        0.017039   \n",
       "\n",
       "                       provincia_id_2  provincia_id_3  provincia_id_4  \\\n",
       "ponderador_matematica       -0.005254        0.004625        0.052001   \n",
       "provincia_id_0              -0.130743       -0.087923       -0.202178   \n",
       "provincia_id_1              -0.018375       -0.012357       -0.028415   \n",
       "provincia_id_2               1.000000       -0.019835       -0.045611   \n",
       "provincia_id_3              -0.019835        1.000000       -0.030673   \n",
       "...                               ...             ...             ...   \n",
       "tiene_celular_no            -0.007147       -0.001821       -0.006970   \n",
       "tiene_celular_si             0.007147        0.001821        0.006970   \n",
       "sex_f                        0.011270       -0.000642       -0.011129   \n",
       "sex_m                       -0.001268       -0.001220       -0.012194   \n",
       "sex_nc                      -0.010380        0.001919        0.024054   \n",
       "\n",
       "                       provincia_id_5  provincia_id_6  provincia_id_7  \\\n",
       "ponderador_matematica       -0.013280       -0.017506        0.000946   \n",
       "provincia_id_0              -0.130968       -0.237362       -0.133637   \n",
       "provincia_id_1              -0.018407       -0.033360       -0.018782   \n",
       "provincia_id_2              -0.029546       -0.053548       -0.030148   \n",
       "provincia_id_3              -0.019869       -0.036011       -0.020274   \n",
       "...                               ...             ...             ...   \n",
       "tiene_celular_no             0.002994        0.004690       -0.009012   \n",
       "tiene_celular_si            -0.002994       -0.004690        0.009012   \n",
       "sex_f                        0.000391        0.001778       -0.004772   \n",
       "sex_m                        0.003506        0.009567       -0.004274   \n",
       "sex_nc                      -0.004004       -0.011664        0.009334   \n",
       "\n",
       "                       provincia_id_8  ...  repeticion_primaria_no  \\\n",
       "ponderador_matematica        0.009337  ...                0.063403   \n",
       "provincia_id_0              -0.098683  ...                0.047962   \n",
       "provincia_id_1              -0.013869  ...                0.003976   \n",
       "provincia_id_2              -0.022263  ...               -0.017453   \n",
       "provincia_id_3              -0.014971  ...               -0.001029   \n",
       "...                               ...  ...                     ...   \n",
       "tiene_celular_no             0.017492  ...               -0.016952   \n",
       "tiene_celular_si            -0.017492  ...                0.016952   \n",
       "sex_f                       -0.006629  ...               -0.016655   \n",
       "sex_m                        0.005819  ...               -0.116844   \n",
       "sex_nc                       0.000898  ...                0.137213   \n",
       "\n",
       "                       repeticion_primaria_tres_veces_o_mas  \\\n",
       "ponderador_matematica                             -0.014408   \n",
       "provincia_id_0                                    -0.020058   \n",
       "provincia_id_1                                     0.009426   \n",
       "provincia_id_2                                     0.000633   \n",
       "provincia_id_3                                    -0.005488   \n",
       "...                                                     ...   \n",
       "tiene_celular_no                                   0.013072   \n",
       "tiene_celular_si                                  -0.013072   \n",
       "sex_f                                             -0.005410   \n",
       "sex_m                                              0.028241   \n",
       "sex_nc                                            -0.023384   \n",
       "\n",
       "                       repeticion_primaria_una_vez  tiene_internet_x_no  \\\n",
       "ponderador_matematica                    -0.054545             0.324673   \n",
       "provincia_id_0                           -0.035229            -0.091104   \n",
       "provincia_id_1                           -0.006983             0.025202   \n",
       "provincia_id_2                            0.017845             0.035269   \n",
       "provincia_id_3                            0.005003            -0.004415   \n",
       "...                                            ...                  ...   \n",
       "tiene_celular_no                          0.013055             0.280696   \n",
       "tiene_celular_si                         -0.013055            -0.280696   \n",
       "sex_f                                     0.020504            -0.051694   \n",
       "sex_m                                     0.101386            -0.051473   \n",
       "sex_nc                                   -0.125334             0.106424   \n",
       "\n",
       "                       tiene_internet_x_si  tiene_celular_no  \\\n",
       "ponderador_matematica            -0.324673          0.219443   \n",
       "provincia_id_0                    0.091104         -0.001740   \n",
       "provincia_id_1                   -0.025202         -0.004629   \n",
       "provincia_id_2                   -0.035269         -0.007147   \n",
       "provincia_id_3                    0.004415         -0.001821   \n",
       "...                                    ...               ...   \n",
       "tiene_celular_no                 -0.280696          1.000000   \n",
       "tiene_celular_si                  0.280696         -1.000000   \n",
       "sex_f                             0.051694         -0.053396   \n",
       "sex_m                             0.051473         -0.020408   \n",
       "sex_nc                           -0.106424          0.076298   \n",
       "\n",
       "                       tiene_celular_si     sex_f     sex_m    sex_nc  \n",
       "ponderador_matematica         -0.219443 -0.186434 -0.194717  0.408144  \n",
       "provincia_id_0                 0.001740  0.012603 -0.002007 -0.011003  \n",
       "provincia_id_1                 0.004629 -0.009411 -0.007096  0.017039  \n",
       "provincia_id_2                 0.007147  0.011270 -0.001268 -0.010380  \n",
       "provincia_id_3                 0.001821 -0.000642 -0.001220  0.001919  \n",
       "...                                 ...       ...       ...       ...  \n",
       "tiene_celular_no              -1.000000 -0.053396 -0.020408  0.076298  \n",
       "tiene_celular_si               1.000000  0.053396  0.020408 -0.076298  \n",
       "sex_f                          0.053396  1.000000 -0.530165 -0.492300  \n",
       "sex_m                          0.020408 -0.530165  1.000000 -0.477028  \n",
       "sex_nc                        -0.076298 -0.492300 -0.477028  1.000000  \n",
       "\n",
       "[68 rows x 68 columns]"
      ]
     },
     "execution_count": 67,
     "metadata": {},
     "output_type": "execute_result"
    }
   ],
   "source": [
    "#analisamos si existe mucha relacion entre variables y ver si son eliminables es decir cercana a uno\n",
    "data.corr()"
   ]
  },
  {
   "cell_type": "code",
   "execution_count": 68,
   "metadata": {},
   "outputs": [],
   "source": [
    "#elimino nulos en col nivel_desemp_matematica\n",
    "data.dropna(subset=['nivel_desemp_matematica'], inplace=True)"
   ]
  },
  {
   "cell_type": "code",
   "execution_count": 69,
   "metadata": {},
   "outputs": [],
   "source": [
    "#elimino col ponderador_matematica\n",
    "data.drop(columns=['ponderador_matematica'], inplace=True)"
   ]
  },
  {
   "cell_type": "code",
   "execution_count": 70,
   "metadata": {},
   "outputs": [],
   "source": [
    "#elimino todos los 'no contesta' de variable nivel_desemp_matematica\n",
    "data=data[~data['nivel_desemp_matematica'].isin(['nc'])]\n"
   ]
  },
  {
   "cell_type": "code",
   "execution_count": 71,
   "metadata": {},
   "outputs": [],
   "source": [
    "#dummies col nivel_desemp_matematica\n",
    "nivel_desemp_matematica=pd.get_dummies(data['nivel_desemp_matematica'], prefix='des_matematica')\n",
    "desemp_matematica = nivel_desemp_matematica.set_index(data.index)\n",
    "data = pd.concat([data, nivel_desemp_matematica], axis=1)"
   ]
  },
  {
   "cell_type": "code",
   "execution_count": 72,
   "metadata": {},
   "outputs": [],
   "source": [
    "#elimino col nivel_desemp_matematica (categórica)\n",
    "data.drop(columns = ['nivel_desemp_matematica'], inplace=True)"
   ]
  },
  {
   "cell_type": "code",
   "execution_count": 73,
   "metadata": {},
   "outputs": [],
   "source": [
    "#defino el target binario en función de 'buen desempeño' = 1, 'mal desempeño'=0.\n",
    "#Buen desempeño incluye alumnos con desempeño avanzado y satisfactorio. Mal desempeño incluye alumnos con desempeño básico y por debajo del básico\n",
    "data['target']=data['des_matematica_avanzado']+data['des_matematica_satisfactorio']"
   ]
  },
  {
   "cell_type": "code",
   "execution_count": 74,
   "metadata": {},
   "outputs": [],
   "source": [
    "#elimino las variables dummies de desempeño en matemática\n",
    "data.drop(columns = ['des_matematica_avanzado', 'des_matematica_basico', 'des_matematica_por_debajo_del_basico','des_matematica_satisfactorio'], inplace=True)"
   ]
  },
  {
   "cell_type": "markdown",
   "metadata": {},
   "source": [
    "### Consideraciones sobre el pre procesamiento de datos y el análisis exploratorio realizado\n",
    "\n",
    "En principio, durante el proceso de preprocesamiento de datos, se realizó una limpieza del dataset eliminando filas y columnas con muchos valores nulos. En este marco, una de las principales decisiones sobre la eliminación de nulos que se tomó, fue dejar de lado los datos de 2013 para simplificar la limpieza, tomando en consideración que los datos de las pruebas Aprender previas al año 2016 se tomaban mediante técnicas de muestreo y a partir de dicho año se comenzó a hacerlo mediante censos (independientemente de que la población de alumnos que participó no llega a ser del 100%).\n",
    "\n",
    "En cuanto los dataset, se utilizó el csv de alumnos concatenado con el de escuelas.\n"
   ]
  },
  {
   "cell_type": "markdown",
   "metadata": {},
   "source": [
    "# Entrenamiento modelo: Random Forest Classifier\n"
   ]
  },
  {
   "cell_type": "code",
   "execution_count": 75,
   "metadata": {},
   "outputs": [],
   "source": [
    "X=data.drop(['target'], axis=1)\n",
    "y=data['target']"
   ]
  },
  {
   "cell_type": "code",
   "execution_count": 77,
   "metadata": {},
   "outputs": [],
   "source": [
    "#train test split\n",
    "from sklearn.model_selection import train_test_split\n",
    "X_train, X_test, y_train, y_test = train_test_split(X,y, test_size = 0.20, stratify=y, random_state = 12)"
   ]
  },
  {
   "cell_type": "code",
   "execution_count": 78,
   "metadata": {},
   "outputs": [],
   "source": [
    "#importo el modelo\n",
    "from sklearn.ensemble import RandomForestClassifier"
   ]
  },
  {
   "cell_type": "code",
   "execution_count": 79,
   "metadata": {},
   "outputs": [
    {
     "name": "stdout",
     "output_type": "stream",
     "text": [
      "accuracy:  0.6548509751011897\n"
     ]
    }
   ],
   "source": [
    "#entreno una primer variante de modelo con 100 árboles de decisión y obtengo el accuracy\n",
    "rf = RandomForestClassifier(n_estimators = 100, max_depth=None, random_state=42, n_jobs=-1)\n",
    "rf.fit(X_train,y_train)\n",
    "print(\"accuracy: \",rf.score(X_test,y_test))"
   ]
  },
  {
   "cell_type": "code",
   "execution_count": 80,
   "metadata": {},
   "outputs": [
    {
     "name": "stdout",
     "output_type": "stream",
     "text": [
      "accuracy:  0.6565681344290445\n"
     ]
    }
   ],
   "source": [
    "#entreno una segunda variante con más cantidad de árboles para intentar mejorar el accuracy\n",
    "rf = RandomForestClassifier(n_estimators = 1000, max_depth=None, random_state=42, n_jobs=-1)\n",
    "rf.fit(X_train,y_train)\n",
    "print(\"accuracy: \",rf.score(X_test,y_test))"
   ]
  },
  {
   "cell_type": "code",
   "execution_count": 54,
   "metadata": {
    "scrolled": true
   },
   "outputs": [
    {
     "data": {
      "text/html": [
       "<div>\n",
       "<style scoped>\n",
       "    .dataframe tbody tr th:only-of-type {\n",
       "        vertical-align: middle;\n",
       "    }\n",
       "\n",
       "    .dataframe tbody tr th {\n",
       "        vertical-align: top;\n",
       "    }\n",
       "\n",
       "    .dataframe thead th {\n",
       "        text-align: right;\n",
       "    }\n",
       "</style>\n",
       "<table border=\"1\" class=\"dataframe\">\n",
       "  <thead>\n",
       "    <tr style=\"text-align: right;\">\n",
       "      <th></th>\n",
       "      <th>importancia_relativa</th>\n",
       "    </tr>\n",
       "  </thead>\n",
       "  <tbody>\n",
       "    <tr>\n",
       "      <th>nivel_id_3</th>\n",
       "      <td>0.080647</td>\n",
       "    </tr>\n",
       "    <tr>\n",
       "      <th>nivel_id_2</th>\n",
       "      <td>0.080431</td>\n",
       "    </tr>\n",
       "    <tr>\n",
       "      <th>indice_socioeconomico_medio_cat_tercil_alto</th>\n",
       "      <td>0.052521</td>\n",
       "    </tr>\n",
       "    <tr>\n",
       "      <th>sex_nc</th>\n",
       "      <td>0.037842</td>\n",
       "    </tr>\n",
       "    <tr>\n",
       "      <th>indice_socioeconomico_medio_cat_tercil_medio</th>\n",
       "      <td>0.029421</td>\n",
       "    </tr>\n",
       "    <tr>\n",
       "      <th>sex_m</th>\n",
       "      <td>0.028515</td>\n",
       "    </tr>\n",
       "    <tr>\n",
       "      <th>provincia_id_0</th>\n",
       "      <td>0.025269</td>\n",
       "    </tr>\n",
       "    <tr>\n",
       "      <th>gestion_privada</th>\n",
       "      <td>0.023394</td>\n",
       "    </tr>\n",
       "    <tr>\n",
       "      <th>sex_f</th>\n",
       "      <td>0.022598</td>\n",
       "    </tr>\n",
       "    <tr>\n",
       "      <th>subvencion_No corresponde</th>\n",
       "      <td>0.021921</td>\n",
       "    </tr>\n",
       "    <tr>\n",
       "      <th>tiene_internet_x_no</th>\n",
       "      <td>0.021016</td>\n",
       "    </tr>\n",
       "    <tr>\n",
       "      <th>tiene_internet_x_si</th>\n",
       "      <td>0.020834</td>\n",
       "    </tr>\n",
       "    <tr>\n",
       "      <th>tiene_celular_no</th>\n",
       "      <td>0.020102</td>\n",
       "    </tr>\n",
       "    <tr>\n",
       "      <th>tiene_celular_si</th>\n",
       "      <td>0.019760</td>\n",
       "    </tr>\n",
       "    <tr>\n",
       "      <th>provincia_id_6</th>\n",
       "      <td>0.019340</td>\n",
       "    </tr>\n",
       "    <tr>\n",
       "      <th>gestion_estatal</th>\n",
       "      <td>0.019330</td>\n",
       "    </tr>\n",
       "    <tr>\n",
       "      <th>repeticion_primaria_no</th>\n",
       "      <td>0.018678</td>\n",
       "    </tr>\n",
       "    <tr>\n",
       "      <th>indice_socioeconomico_medio_cat_tercil_bajo</th>\n",
       "      <td>0.018646</td>\n",
       "    </tr>\n",
       "    <tr>\n",
       "      <th>icse_cat_alto</th>\n",
       "      <td>0.018472</td>\n",
       "    </tr>\n",
       "    <tr>\n",
       "      <th>tiene_internet_y_t</th>\n",
       "      <td>0.017464</td>\n",
       "    </tr>\n",
       "    <tr>\n",
       "      <th>tiene_internet_y_f</th>\n",
       "      <td>0.017371</td>\n",
       "    </tr>\n",
       "    <tr>\n",
       "      <th>icse_cat_bajo_y_medio</th>\n",
       "      <td>0.016756</td>\n",
       "    </tr>\n",
       "    <tr>\n",
       "      <th>provincia_id_4</th>\n",
       "      <td>0.016153</td>\n",
       "    </tr>\n",
       "    <tr>\n",
       "      <th>provincia_id_23</th>\n",
       "      <td>0.015847</td>\n",
       "    </tr>\n",
       "    <tr>\n",
       "      <th>provincia_id_16</th>\n",
       "      <td>0.015764</td>\n",
       "    </tr>\n",
       "  </tbody>\n",
       "</table>\n",
       "</div>"
      ],
      "text/plain": [
       "                                              importancia_relativa\n",
       "nivel_id_3                                                0.080647\n",
       "nivel_id_2                                                0.080431\n",
       "indice_socioeconomico_medio_cat_tercil_alto               0.052521\n",
       "sex_nc                                                    0.037842\n",
       "indice_socioeconomico_medio_cat_tercil_medio              0.029421\n",
       "sex_m                                                     0.028515\n",
       "provincia_id_0                                            0.025269\n",
       "gestion_privada                                           0.023394\n",
       "sex_f                                                     0.022598\n",
       "subvencion_No corresponde                                 0.021921\n",
       "tiene_internet_x_no                                       0.021016\n",
       "tiene_internet_x_si                                       0.020834\n",
       "tiene_celular_no                                          0.020102\n",
       "tiene_celular_si                                          0.019760\n",
       "provincia_id_6                                            0.019340\n",
       "gestion_estatal                                           0.019330\n",
       "repeticion_primaria_no                                    0.018678\n",
       "indice_socioeconomico_medio_cat_tercil_bajo               0.018646\n",
       "icse_cat_alto                                             0.018472\n",
       "tiene_internet_y_t                                        0.017464\n",
       "tiene_internet_y_f                                        0.017371\n",
       "icse_cat_bajo_y_medio                                     0.016756\n",
       "provincia_id_4                                            0.016153\n",
       "provincia_id_23                                           0.015847\n",
       "provincia_id_16                                           0.015764"
      ]
     },
     "execution_count": 54,
     "metadata": {},
     "output_type": "execute_result"
    }
   ],
   "source": [
    "#imprimo las features que el modelo clasificó como más importantes o las 'mejor predictoras' (solo las primeras 10)\n",
    "feature_importances = pd.DataFrame(rf.feature_importances_,\n",
    "                                   index = X_train.columns,\n",
    "                                    columns=['importancia_relativa']).sort_values('importancia_relativa',ascending=False)\n",
    "feature_importances.head(25)"
   ]
  },
  {
   "cell_type": "code",
   "execution_count": 81,
   "metadata": {},
   "outputs": [],
   "source": [
    "#función para graficar la matriz de confusión\n",
    "from sklearn.metrics import confusion_matrix\n",
    "import seaborn as sns\n",
    "\n",
    "def confusion(y_test,y_pred):\n",
    "    names=[\"Buen desempeño\",\"Mal desempeño\"]\n",
    "    cm=confusion_matrix(y_test,y_pred)\n",
    "    f,ax=plt.subplots(figsize=(5,5))\n",
    "    sns.heatmap(cm,annot=True,linewidth=.5,linecolor=\"r\",fmt=\".0f\",ax=ax)\n",
    "    plt.xlabel(\"y_pred\")\n",
    "    plt.ylabel(\"y_true\")\n",
    "    ax.set_xticklabels(names)\n",
    "    ax.set_yticklabels(names)\n",
    "    plt.show()\n",
    "\n",
    "    return"
   ]
  },
  {
   "cell_type": "code",
   "execution_count": 82,
   "metadata": {},
   "outputs": [
    {
     "data": {
      "image/png": "[encoded data removed]",
      "text/plain": [
       "<Figure size 360x360 with 2 Axes>"
      ]
     },
     "metadata": {
      "needs_background": "light"
     },
     "output_type": "display_data"
    }
   ],
   "source": [
    "#realizo predicciones y grafico la matriz de confusión\n",
    "y_pred=rf.predict(X_test)\n",
    "confusion(y_test,y_pred)"
   ]
  },
  {
   "cell_type": "markdown",
   "metadata": {},
   "source": [
    "# Entrenamiento modelo: XGB Classifier"
   ]
  },
  {
   "cell_type": "code",
   "execution_count": 92,
   "metadata": {},
   "outputs": [],
   "source": [
    "#Imports para entrenamiento, predicción y evaluación del modelo\n",
    "import xgboost as xgb"
   ]
  },
  {
   "cell_type": "code",
   "execution_count": 89,
   "metadata": {},
   "outputs": [
    {
     "name": "stdout",
     "output_type": "stream",
     "text": [
      "accuracy:  0.6704280632895867\n"
     ]
    }
   ],
   "source": [
    "xgb_model = xgb.XGBClassifier()\n",
    "xgb_model.fit(X_train,y_train)\n",
    "print(\"accuracy: \",xgb_model.score(X_test,y_test))"
   ]
  },
  {
   "cell_type": "code",
   "execution_count": 91,
   "metadata": {
    "scrolled": true
   },
   "outputs": [
    {
     "data": {
      "image/png": "[encoded data removed]",
      "text/plain": [
       "<Figure size 360x360 with 2 Axes>"
      ]
     },
     "metadata": {
      "needs_background": "light"
     },
     "output_type": "display_data"
    }
   ],
   "source": [
    "y_pred=xgb_model.predict(X_test)\n",
    "confusion(y_test,y_pred)"
   ]
  },
  {
   "cell_type": "code",
   "execution_count": 93,
   "metadata": {},
   "outputs": [
    {
     "data": {
      "text/html": [
       "<div>\n",
       "<style scoped>\n",
       "    .dataframe tbody tr th:only-of-type {\n",
       "        vertical-align: middle;\n",
       "    }\n",
       "\n",
       "    .dataframe tbody tr th {\n",
       "        vertical-align: top;\n",
       "    }\n",
       "\n",
       "    .dataframe thead th {\n",
       "        text-align: right;\n",
       "    }\n",
       "</style>\n",
       "<table border=\"1\" class=\"dataframe\">\n",
       "  <thead>\n",
       "    <tr style=\"text-align: right;\">\n",
       "      <th></th>\n",
       "      <th>importancia_relativa</th>\n",
       "    </tr>\n",
       "  </thead>\n",
       "  <tbody>\n",
       "    <tr>\n",
       "      <th>indice_socioeconomico_medio_cat_tercil_alto</th>\n",
       "      <td>0.209835</td>\n",
       "    </tr>\n",
       "    <tr>\n",
       "      <th>nivel_id_2</th>\n",
       "      <td>0.131243</td>\n",
       "    </tr>\n",
       "    <tr>\n",
       "      <th>gestion_privada</th>\n",
       "      <td>0.076042</td>\n",
       "    </tr>\n",
       "    <tr>\n",
       "      <th>provincia_id_4</th>\n",
       "      <td>0.044629</td>\n",
       "    </tr>\n",
       "    <tr>\n",
       "      <th>subvencion_No corresponde</th>\n",
       "      <td>0.033103</td>\n",
       "    </tr>\n",
       "    <tr>\n",
       "      <th>repeticion_primaria_no</th>\n",
       "      <td>0.028044</td>\n",
       "    </tr>\n",
       "    <tr>\n",
       "      <th>provincia_id_6</th>\n",
       "      <td>0.027212</td>\n",
       "    </tr>\n",
       "    <tr>\n",
       "      <th>tecnica_f</th>\n",
       "      <td>0.021770</td>\n",
       "    </tr>\n",
       "    <tr>\n",
       "      <th>provincia_id_13</th>\n",
       "      <td>0.020923</td>\n",
       "    </tr>\n",
       "    <tr>\n",
       "      <th>provincia_id_1</th>\n",
       "      <td>0.020300</td>\n",
       "    </tr>\n",
       "    <tr>\n",
       "      <th>dependencia_provincial</th>\n",
       "      <td>0.020143</td>\n",
       "    </tr>\n",
       "    <tr>\n",
       "      <th>subvencion_No</th>\n",
       "      <td>0.017927</td>\n",
       "    </tr>\n",
       "    <tr>\n",
       "      <th>provincia_id_10</th>\n",
       "      <td>0.015232</td>\n",
       "    </tr>\n",
       "    <tr>\n",
       "      <th>gestion_estatal</th>\n",
       "      <td>0.013857</td>\n",
       "    </tr>\n",
       "    <tr>\n",
       "      <th>provincia_id_20</th>\n",
       "      <td>0.013838</td>\n",
       "    </tr>\n",
       "    <tr>\n",
       "      <th>provincia_id_17</th>\n",
       "      <td>0.013760</td>\n",
       "    </tr>\n",
       "    <tr>\n",
       "      <th>provincia_id_8</th>\n",
       "      <td>0.013338</td>\n",
       "    </tr>\n",
       "    <tr>\n",
       "      <th>provincia_id_21</th>\n",
       "      <td>0.012725</td>\n",
       "    </tr>\n",
       "    <tr>\n",
       "      <th>ambito_rural</th>\n",
       "      <td>0.012670</td>\n",
       "    </tr>\n",
       "    <tr>\n",
       "      <th>tiene_internet_x_no</th>\n",
       "      <td>0.012358</td>\n",
       "    </tr>\n",
       "    <tr>\n",
       "      <th>provincia_id_2</th>\n",
       "      <td>0.011590</td>\n",
       "    </tr>\n",
       "    <tr>\n",
       "      <th>indice_socioeconomico_medio_cat_tercil_medio</th>\n",
       "      <td>0.011255</td>\n",
       "    </tr>\n",
       "    <tr>\n",
       "      <th>provincia_id_11</th>\n",
       "      <td>0.010636</td>\n",
       "    </tr>\n",
       "    <tr>\n",
       "      <th>provincia_id_5</th>\n",
       "      <td>0.009672</td>\n",
       "    </tr>\n",
       "    <tr>\n",
       "      <th>provincia_id_23</th>\n",
       "      <td>0.008738</td>\n",
       "    </tr>\n",
       "  </tbody>\n",
       "</table>\n",
       "</div>"
      ],
      "text/plain": [
       "                                              importancia_relativa\n",
       "indice_socioeconomico_medio_cat_tercil_alto               0.209835\n",
       "nivel_id_2                                                0.131243\n",
       "gestion_privada                                           0.076042\n",
       "provincia_id_4                                            0.044629\n",
       "subvencion_No corresponde                                 0.033103\n",
       "repeticion_primaria_no                                    0.028044\n",
       "provincia_id_6                                            0.027212\n",
       "tecnica_f                                                 0.021770\n",
       "provincia_id_13                                           0.020923\n",
       "provincia_id_1                                            0.020300\n",
       "dependencia_provincial                                    0.020143\n",
       "subvencion_No                                             0.017927\n",
       "provincia_id_10                                           0.015232\n",
       "gestion_estatal                                           0.013857\n",
       "provincia_id_20                                           0.013838\n",
       "provincia_id_17                                           0.013760\n",
       "provincia_id_8                                            0.013338\n",
       "provincia_id_21                                           0.012725\n",
       "ambito_rural                                              0.012670\n",
       "tiene_internet_x_no                                       0.012358\n",
       "provincia_id_2                                            0.011590\n",
       "indice_socioeconomico_medio_cat_tercil_medio              0.011255\n",
       "provincia_id_11                                           0.010636\n",
       "provincia_id_5                                            0.009672\n",
       "provincia_id_23                                           0.008738"
      ]
     },
     "execution_count": 93,
     "metadata": {},
     "output_type": "execute_result"
    }
   ],
   "source": [
    "feature_importances = pd.DataFrame(xgb_model.feature_importances_,\n",
    "                                   index = X_train.columns,\n",
    "                                    columns=['importancia_relativa']).sort_values('importancia_relativa',ascending=False)\n",
    "feature_importances.head(25)"
   ]
  },
  {
   "cell_type": "markdown",
   "metadata": {},
   "source": [
    "### Consideraciones sobre los modelos realizados\n",
    "Se decidió seguir el camino de una predicción binaria del desempeño del alumno en matemática. La variable target se construyó con las siguientes categorías: buen desempeño en matemática (unificando el desempeño avanzado y el desempeño satisfactorio) cuyo valor es 1, y mal desempeño en matemática (unificando el desempeño básico y por debajo del básico), si bien puede ser arbitrario este agrupamiento, se tomó esta decisión para simplificar el análisis y el modelo.\n",
    "\n",
    "Se eligieron los modelos de Random Forest y XGBoost. Se entrenó el Random Forest primero con 100 árboles y luego con 1000 para mejorar su accuracy. En ambos casos dió un accuracy de 0,67 a lo que entendemos que su precisión es deficiente, y esto se puede observar en la matriz de confusión donde vemos que el modelo se equivoca en muchos casos con las predicciones del desempeño.\n",
    "\n",
    "El modelo de XGBoost fue entrenado con hiperparámetros que vienen por default en el modelo, arrojando un mismo valor de accuracy que en el modelo de Random Forest (0,67)."
   ]
  },
  {
   "cell_type": "markdown",
   "metadata": {},
   "source": [
    "# Conclusiones"
   ]
  },
  {
   "cell_type": "markdown",
   "metadata": {},
   "source": [
    "En función de la pregunta de investigación planteada: ¿se puede predecir el desempeño de las pruebas Aprender?, concluimos que sí es posible predecir el desempeño en estas pruebas mediante un modelo predictivo.\n",
    "\n",
    "Como se mostró anteriormente se trabajó con modelos de clasificación binaria para predecir el desempeño bueno o malo de los alumnos evaluados para la prueba de matemática.\n",
    "\n",
    "La elección de matemática se realizó a los fines de simplificar el problema, entendiendo que es una de las materias elementales en la educación del individuo.\n",
    "\n",
    "\n",
    "Luego de haber entrenado el modelo, al evaluar el ranking de features que mejor predicen el nivel de desempeño del alumno en matemática, se destacan aquellas variables vinculadas al nivel socioeconómico del alumno y de la escuela, variables vinculadas al nivel de conectividad del alumno, y distribución de recursos del Estado en las jurisdicciones.\n",
    "\n",
    "\n",
    "\n",
    "### Pasos a seguir\n",
    "Consideramos que el modelo todavía tiene algunos puntos a profundizar y seguir trabajando, entre los que se resaltan:\n",
    "\n",
    "*Optimizar hiperparámetros para mejorar su métrica, ya que se probaron dos variantes donde solo se cambió el número de estimadores.\n",
    "\n",
    "*Mejorar métricas del modelo.\n",
    "\n",
    "*Segmentar y entrenar un modelo para alumnos de primaria y secundaria por separado."
   ]
  },
  {
   "cell_type": "code",
   "execution_count": null,
   "metadata": {},
   "outputs": [],
   "source": []
  }
 ],
 "metadata": {
  "kernelspec": {
   "display_name": "Python 3",
   "language": "python",
   "name": "python3"
  },
  "language_info": {
   "codemirror_mode": {
    "name": "ipython",
    "version": 3
   },
   "file_extension": ".py",
   "mimetype": "text/x-python",
   "name": "python",
   "nbconvert_exporter": "python",
   "pygments_lexer": "ipython3",
   "version": "3.6.10"
  }
 },
 "nbformat": 4,
 "nbformat_minor": 2
}
